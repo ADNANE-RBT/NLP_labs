{
 "cells": [
  {
   "cell_type": "markdown",
   "source": [
    "# Part 1: Rule-Based NLP and Regex"
   ],
   "metadata": {
    "collapsed": false
   },
   "id": "e9f5cf0950912df5"
  },
  {
   "cell_type": "markdown",
   "source": [
    "In this part, i will use Regex to generate a bill from a given text input.\n"
   ],
   "metadata": {
    "collapsed": false
   },
   "id": "fbb2dbf0afb8c3e3"
  },
  {
   "cell_type": "code",
   "execution_count": null,
   "id": "initial_id",
   "metadata": {
    "collapsed": true
   },
   "outputs": [],
   "source": [
    "text = \"I bought three Samsung smartphones 150 $ each, four kilos of fresh banana for 1,2 dollar a kilogram and one Hamburger with 4,5 dollar\"\n"
   ]
  },
  {
   "cell_type": "code",
   "execution_count": null,
   "outputs": [],
   "source": [
    "import re\n",
    "from nltk.corpus import stopwords"
   ],
   "metadata": {
    "collapsed": false
   },
   "id": "908d8f1b3f16469"
  },
  {
   "cell_type": "code",
   "execution_count": null,
   "outputs": [],
   "source": [
    "word_to_numbers = {\n",
    "    'one': 1,\n",
    "    'two': 2,\n",
    "    'three': 3,\n",
    "    'four': 4,\n",
    "    'five': 5,\n",
    "    'six': 6,\n",
    "    'seven': 7,\n",
    "    'eight': 8,\n",
    "    'nine': 9,\n",
    "    'ten': 10\n",
    "}"
   ],
   "metadata": {
    "collapsed": false
   },
   "id": "1db97a1ffd0d4323"
  },
  {
   "cell_type": "code",
   "execution_count": null,
   "outputs": [],
   "source": [
    "tokens = re.split(r'(?<!\\d),(?! \\d)|(?<!\\d) and', text)\n",
    "result = []\n",
    "total_bill = 0 "
   ],
   "metadata": {
    "collapsed": false
   },
   "id": "c6c77b0e78b6089d"
  },
  {
   "cell_type": "code",
   "execution_count": null,
   "outputs": [],
   "source": [
    "for token in tokens:\n",
    "        # Replace word numbers with their numeric equivalents\n",
    "        token = ' '.join([str(word_to_numbers.get(word.strip().lower(), word.strip())) \n",
    "                          for word in token.split() \n",
    "                          if word.lower() not in ['bought', 'kilos', 'each', 'purchased']])\n",
    "        \n",
    "        # Remove stop words\n",
    "        stop_words = set(stopwords.words('english'))\n",
    "        token = ' '.join([word for word in token.split() if word.lower() not in stop_words])\n",
    "        result.append(token)"
   ],
   "metadata": {
    "collapsed": false
   },
   "id": "8287f44c04a61fef"
  },
  {
   "cell_type": "code",
   "execution_count": null,
   "outputs": [],
   "source": [
    "print(\"The Bill:\")\n",
    "print(\"{:<20} {:<10} {:<10} {:<10}\".format(\"Product\", \"Quantity\", \"Unit Price\", \"Total Price\"))\n",
    "for item in result:\n",
    "        match = re.match(r'(\\d+(?:,\\d+)*(?:\\.\\d+)?) (.+?) (\\d+(?:,\\d+)*(?:\\.\\d+)?)', item)\n",
    "        if match:\n",
    "            quantity, product, unit_price = match.groups()\n",
    "            quantity = float(quantity.replace(',', ''))  # Convert quantity to float\n",
    "            unit_price = float(unit_price.replace(',', '.'))  # Convert unit price to float\n",
    "            total_price = quantity * unit_price  # Calculate total price\n",
    "            total_bill += total_price  # Add to the total bill\n",
    "            # Print the details of the current item\n",
    "            print(\"{:<20} {:<10} {:<10} {:<10}\".format(product, quantity, unit_price, total_price))"
   ],
   "metadata": {
    "collapsed": false
   },
   "id": "d7f5e529bbc5c5c1"
  },
  {
   "cell_type": "markdown",
   "source": [
    "# Part 2: word Embedding"
   ],
   "metadata": {
    "collapsed": false
   },
   "id": "2780ac5e9bf29616"
  },
  {
   "cell_type": "code",
   "execution_count": 151,
   "outputs": [],
   "source": [
    "import pymongo\n",
    "# Connect to MongoDB\n",
    "client = pymongo.MongoClient('localhost', 27017)\n",
    "db = client['web_scraping']\n",
    "collection = db['aljazeera_events']\n",
    "\n",
    "# Fetch content from MongoDB\n",
    "cursor = collection.find()\n",
    "titles_list = []"
   ],
   "metadata": {
    "collapsed": false,
    "ExecuteTime": {
     "end_time": "2024-06-07T14:56:57.281365Z",
     "start_time": "2024-06-07T14:56:57.234347500Z"
    }
   },
   "id": "b872f28724d248f9"
  },
  {
   "cell_type": "code",
   "execution_count": 152,
   "outputs": [],
   "source": [
    "count = 0\n",
    "for document in cursor:\n",
    "    if count >= 7:\n",
    "        break  # Exit the loop if we've processed 6 contents\n",
    "    title = document.get('title')\n",
    "    titles_list.append(title)\n",
    "    count += 1"
   ],
   "metadata": {
    "collapsed": false,
    "ExecuteTime": {
     "end_time": "2024-06-07T14:56:57.446355100Z",
     "start_time": "2024-06-07T14:56:57.425364100Z"
    }
   },
   "id": "4e8c2480585140f0"
  },
  {
   "cell_type": "code",
   "execution_count": 153,
   "outputs": [
    {
     "name": "stdout",
     "output_type": "stream",
     "text": [
      "['مهرجان الجزيرة بلقان للأفلام الوثائقية', 'منتدى الجزيرة الخامس عشر', 'منتدى كليات الصحافة في العالم العربي', 'مهرجان الجزيرة بلقان السادس للأفلام الوثائقية', 'الجزيرة للدراسات يبحث جدوى انخراط فلسطينيّي الداخل في مؤسسة الحكم الإسرائيلية', 'معرض اكتشف الجزيرة', 'الجزيرة تحتفل بمرور 25 عاماً على انطلاقتها']\n",
      "the title: الجزيرة تحتفل بمرور 25 عاماً على انطلاقتها\n"
     ]
    }
   ],
   "source": [
    "print(titles_list)\n",
    "print(\"the title:\",title)\n"
   ],
   "metadata": {
    "collapsed": false,
    "ExecuteTime": {
     "end_time": "2024-06-07T14:57:00.144500500Z",
     "start_time": "2024-06-07T14:57:00.112768100Z"
    }
   },
   "id": "8d11190b2c294270"
  },
  {
   "cell_type": "markdown",
   "source": [
    "## One-Hot Encoding, Bag of Words, TF-IDF:"
   ],
   "metadata": {
    "collapsed": false
   },
   "id": "5f11d71a22d33e21"
  },
  {
   "cell_type": "code",
   "execution_count": 172,
   "outputs": [
    {
     "ename": "ImportError",
     "evalue": "cannot import name 'triu' from 'scipy.linalg.special_matrices' (C:\\Users\\Dell PC\\PycharmProjects\\atelier1\\venv\\Lib\\site-packages\\scipy\\linalg\\special_matrices.py)",
     "output_type": "error",
     "traceback": [
      "\u001B[1;31m---------------------------------------------------------------------------\u001B[0m",
      "\u001B[1;31mImportError\u001B[0m                               Traceback (most recent call last)",
      "Cell \u001B[1;32mIn[172], line 12\u001B[0m\n\u001B[0;32m     10\u001B[0m \u001B[38;5;28;01mfrom\u001B[39;00m \u001B[38;5;21;01msklearn\u001B[39;00m\u001B[38;5;21;01m.\u001B[39;00m\u001B[38;5;21;01mfeature_extraction\u001B[39;00m\u001B[38;5;21;01m.\u001B[39;00m\u001B[38;5;21;01mtext\u001B[39;00m \u001B[38;5;28;01mimport\u001B[39;00m CountVectorizer\n\u001B[0;32m     11\u001B[0m \u001B[38;5;28;01mfrom\u001B[39;00m \u001B[38;5;21;01msklearn\u001B[39;00m\u001B[38;5;21;01m.\u001B[39;00m\u001B[38;5;21;01mfeature_extraction\u001B[39;00m\u001B[38;5;21;01m.\u001B[39;00m\u001B[38;5;21;01mtext\u001B[39;00m \u001B[38;5;28;01mimport\u001B[39;00m TfidfVectorizer\n\u001B[1;32m---> 12\u001B[0m \u001B[38;5;28;01mfrom\u001B[39;00m \u001B[38;5;21;01mgensim\u001B[39;00m\u001B[38;5;21;01m.\u001B[39;00m\u001B[38;5;21;01mmodels\u001B[39;00m \u001B[38;5;28;01mimport\u001B[39;00m word2vec\n\u001B[0;32m     13\u001B[0m \u001B[38;5;28;01mfrom\u001B[39;00m \u001B[38;5;21;01mgensim\u001B[39;00m\u001B[38;5;21;01m.\u001B[39;00m\u001B[38;5;21;01mmodels\u001B[39;00m \u001B[38;5;28;01mimport\u001B[39;00m fasttext\n\u001B[0;32m     14\u001B[0m \u001B[38;5;28;01mfrom\u001B[39;00m \u001B[38;5;21;01mgensim\u001B[39;00m\u001B[38;5;21;01m.\u001B[39;00m\u001B[38;5;21;01mmodels\u001B[39;00m \u001B[38;5;28;01mimport\u001B[39;00m KeyedVectors\n",
      "File \u001B[1;32m~\\PycharmProjects\\atelier1\\venv\\Lib\\site-packages\\gensim\\__init__.py:6\u001B[0m\n\u001B[0;32m      1\u001B[0m \u001B[38;5;124;03m\"\"\"\u001B[39;00m\n\u001B[0;32m      2\u001B[0m \u001B[38;5;124;03mThis package contains interfaces and functionality to compute pair-wise document\u001B[39;00m\n\u001B[0;32m      3\u001B[0m \u001B[38;5;124;03msimilarities within a corpus of documents.\u001B[39;00m\n\u001B[0;32m      4\u001B[0m \u001B[38;5;124;03m\"\"\"\u001B[39;00m\n\u001B[1;32m----> 6\u001B[0m \u001B[38;5;28;01mfrom\u001B[39;00m \u001B[38;5;21;01mgensim\u001B[39;00m \u001B[38;5;28;01mimport\u001B[39;00m parsing, matutils, interfaces, corpora, models, similarities, summarization, utils  \u001B[38;5;66;03m# noqa:F401\u001B[39;00m\n\u001B[0;32m      7\u001B[0m \u001B[38;5;28;01mimport\u001B[39;00m \u001B[38;5;21;01mlogging\u001B[39;00m\n\u001B[0;32m      9\u001B[0m __version__ \u001B[38;5;241m=\u001B[39m \u001B[38;5;124m'\u001B[39m\u001B[38;5;124m3.1.0\u001B[39m\u001B[38;5;124m'\u001B[39m\n",
      "File \u001B[1;32m~\\PycharmProjects\\atelier1\\venv\\Lib\\site-packages\\gensim\\matutils.py:24\u001B[0m\n\u001B[0;32m     22\u001B[0m \u001B[38;5;28;01mimport\u001B[39;00m \u001B[38;5;21;01mscipy\u001B[39;00m\u001B[38;5;21;01m.\u001B[39;00m\u001B[38;5;21;01mlinalg\u001B[39;00m\n\u001B[0;32m     23\u001B[0m \u001B[38;5;28;01mfrom\u001B[39;00m \u001B[38;5;21;01mscipy\u001B[39;00m\u001B[38;5;21;01m.\u001B[39;00m\u001B[38;5;21;01mlinalg\u001B[39;00m\u001B[38;5;21;01m.\u001B[39;00m\u001B[38;5;21;01mlapack\u001B[39;00m \u001B[38;5;28;01mimport\u001B[39;00m get_lapack_funcs\n\u001B[1;32m---> 24\u001B[0m \u001B[38;5;28;01mfrom\u001B[39;00m \u001B[38;5;21;01mscipy\u001B[39;00m\u001B[38;5;21;01m.\u001B[39;00m\u001B[38;5;21;01mlinalg\u001B[39;00m\u001B[38;5;21;01m.\u001B[39;00m\u001B[38;5;21;01mspecial_matrices\u001B[39;00m \u001B[38;5;28;01mimport\u001B[39;00m triu\n\u001B[0;32m     25\u001B[0m \u001B[38;5;28;01mfrom\u001B[39;00m \u001B[38;5;21;01mscipy\u001B[39;00m\u001B[38;5;21;01m.\u001B[39;00m\u001B[38;5;21;01mspecial\u001B[39;00m \u001B[38;5;28;01mimport\u001B[39;00m psi  \u001B[38;5;66;03m# gamma function utils\u001B[39;00m\n\u001B[0;32m     27\u001B[0m \u001B[38;5;28;01mfrom\u001B[39;00m \u001B[38;5;21;01msix\u001B[39;00m \u001B[38;5;28;01mimport\u001B[39;00m iteritems, itervalues, string_types\n",
      "\u001B[1;31mImportError\u001B[0m: cannot import name 'triu' from 'scipy.linalg.special_matrices' (C:\\Users\\Dell PC\\PycharmProjects\\atelier1\\venv\\Lib\\site-packages\\scipy\\linalg\\special_matrices.py)"
     ]
    }
   ],
   "source": [
    "import json\n",
    "import re\n",
    "import string\n",
    "from nltk.tokenize import word_tokenize\n",
    "from word2number import w2n\n",
    "from nltk.corpus import stopwords\n",
    "import pyarabic.araby as araby\n",
    "import numpy as np\n",
    "import pandas as pd\n",
    "from sklearn.feature_extraction.text import CountVectorizer\n",
    "from sklearn.feature_extraction.text import TfidfVectorizer\n",
    "from gensim.models import word2vec\n",
    "from gensim.models import fasttext\n",
    "from gensim.models import KeyedVectors\n",
    "from sklearn.manifold import TSNE\n",
    "import matplotlib.pyplot as plt\n",
    "# from bidi.algorithm import get_display\n",
    "# import arabic_reshaper"
   ],
   "metadata": {
    "collapsed": false,
    "ExecuteTime": {
     "end_time": "2024-06-07T15:09:09.704194900Z",
     "start_time": "2024-06-07T15:09:07.630095100Z"
    }
   },
   "id": "408d162beafcee5f"
  },
  {
   "cell_type": "code",
   "execution_count": 165,
   "outputs": [
    {
     "name": "stdout",
     "output_type": "stream",
     "text": [
      "Unique words: {'الوثائقية', 'الجزيرة', 'الحكم', 'يبحث', 'منتدى', 'انطلاقتها', 'عاماً', 'بمرور', 'جدوى', 'تحتفل', 'الصحافة', 'بلقان', 'للدراسات', 'العربي', 'الخامس', 'اكتشف', 'كليات', 'العالم', 'مؤسسة', 'انخراط', 'الإسرائيلية', 'معرض', 'الداخل', 'للأفلام', 'السادس', 'فلسطينيّي', 'مهرجان'}\n",
      "Number of unique words: 27\n"
     ]
    }
   ],
   "source": [
    "ar_punct = ''')(+`÷×؛<>_()*&^%][ـ،/:\"؟.,'{}~¦+|!”،.”…“–ـ”.'''\n",
    "en_punct = string.punctuation\n",
    "punct_lst = ar_punct + en_punct\n",
    "unique_words = set()\n",
    "for title in titles_list:\n",
    "    for word in araby.tokenize(title):\n",
    "        if word not in stopwords.words('arabic') and word not in punct_lst and word.isdigit() == False:\n",
    "            unique_words.add(word)\n",
    "print(f\"Unique words: {unique_words}\")\n",
    "print(f\"Number of unique words: {len(unique_words)}\")\n"
   ],
   "metadata": {
    "collapsed": false,
    "ExecuteTime": {
     "end_time": "2024-06-07T15:05:53.046736300Z",
     "start_time": "2024-06-07T15:05:52.973738600Z"
    }
   },
   "id": "5cf3508bdd2e88b7"
  },
  {
   "cell_type": "code",
   "execution_count": 166,
   "outputs": [
    {
     "data": {
      "text/plain": "           Word                                   One-hot encoding\n0     الوثائقية  [1.0, 0.0, 0.0, 0.0, 0.0, 0.0, 0.0, 0.0, 0.0, ...\n1       الجزيرة  [0.0, 1.0, 0.0, 0.0, 0.0, 0.0, 0.0, 0.0, 0.0, ...\n2         الحكم  [0.0, 0.0, 1.0, 0.0, 0.0, 0.0, 0.0, 0.0, 0.0, ...\n3          يبحث  [0.0, 0.0, 0.0, 1.0, 0.0, 0.0, 0.0, 0.0, 0.0, ...\n4         منتدى  [0.0, 0.0, 0.0, 0.0, 1.0, 0.0, 0.0, 0.0, 0.0, ...\n5     انطلاقتها  [0.0, 0.0, 0.0, 0.0, 0.0, 1.0, 0.0, 0.0, 0.0, ...\n6         عاماً  [0.0, 0.0, 0.0, 0.0, 0.0, 0.0, 1.0, 0.0, 0.0, ...\n7         بمرور  [0.0, 0.0, 0.0, 0.0, 0.0, 0.0, 0.0, 1.0, 0.0, ...\n8          جدوى  [0.0, 0.0, 0.0, 0.0, 0.0, 0.0, 0.0, 0.0, 1.0, ...\n9         تحتفل  [0.0, 0.0, 0.0, 0.0, 0.0, 0.0, 0.0, 0.0, 0.0, ...\n10      الصحافة  [0.0, 0.0, 0.0, 0.0, 0.0, 0.0, 0.0, 0.0, 0.0, ...\n11        بلقان  [0.0, 0.0, 0.0, 0.0, 0.0, 0.0, 0.0, 0.0, 0.0, ...\n12     للدراسات  [0.0, 0.0, 0.0, 0.0, 0.0, 0.0, 0.0, 0.0, 0.0, ...\n13       العربي  [0.0, 0.0, 0.0, 0.0, 0.0, 0.0, 0.0, 0.0, 0.0, ...\n14       الخامس  [0.0, 0.0, 0.0, 0.0, 0.0, 0.0, 0.0, 0.0, 0.0, ...\n15        اكتشف  [0.0, 0.0, 0.0, 0.0, 0.0, 0.0, 0.0, 0.0, 0.0, ...\n16        كليات  [0.0, 0.0, 0.0, 0.0, 0.0, 0.0, 0.0, 0.0, 0.0, ...\n17       العالم  [0.0, 0.0, 0.0, 0.0, 0.0, 0.0, 0.0, 0.0, 0.0, ...\n18        مؤسسة  [0.0, 0.0, 0.0, 0.0, 0.0, 0.0, 0.0, 0.0, 0.0, ...\n19       انخراط  [0.0, 0.0, 0.0, 0.0, 0.0, 0.0, 0.0, 0.0, 0.0, ...\n20  الإسرائيلية  [0.0, 0.0, 0.0, 0.0, 0.0, 0.0, 0.0, 0.0, 0.0, ...\n21         معرض  [0.0, 0.0, 0.0, 0.0, 0.0, 0.0, 0.0, 0.0, 0.0, ...\n22       الداخل  [0.0, 0.0, 0.0, 0.0, 0.0, 0.0, 0.0, 0.0, 0.0, ...\n23      للأفلام  [0.0, 0.0, 0.0, 0.0, 0.0, 0.0, 0.0, 0.0, 0.0, ...\n24       السادس  [0.0, 0.0, 0.0, 0.0, 0.0, 0.0, 0.0, 0.0, 0.0, ...\n25    فلسطينيّي  [0.0, 0.0, 0.0, 0.0, 0.0, 0.0, 0.0, 0.0, 0.0, ...\n26       مهرجان  [0.0, 0.0, 0.0, 0.0, 0.0, 0.0, 0.0, 0.0, 0.0, ...",
      "text/html": "<div>\n<style scoped>\n    .dataframe tbody tr th:only-of-type {\n        vertical-align: middle;\n    }\n\n    .dataframe tbody tr th {\n        vertical-align: top;\n    }\n\n    .dataframe thead th {\n        text-align: right;\n    }\n</style>\n<table border=\"1\" class=\"dataframe\">\n  <thead>\n    <tr style=\"text-align: right;\">\n      <th></th>\n      <th>Word</th>\n      <th>One-hot encoding</th>\n    </tr>\n  </thead>\n  <tbody>\n    <tr>\n      <th>0</th>\n      <td>الوثائقية</td>\n      <td>[1.0, 0.0, 0.0, 0.0, 0.0, 0.0, 0.0, 0.0, 0.0, ...</td>\n    </tr>\n    <tr>\n      <th>1</th>\n      <td>الجزيرة</td>\n      <td>[0.0, 1.0, 0.0, 0.0, 0.0, 0.0, 0.0, 0.0, 0.0, ...</td>\n    </tr>\n    <tr>\n      <th>2</th>\n      <td>الحكم</td>\n      <td>[0.0, 0.0, 1.0, 0.0, 0.0, 0.0, 0.0, 0.0, 0.0, ...</td>\n    </tr>\n    <tr>\n      <th>3</th>\n      <td>يبحث</td>\n      <td>[0.0, 0.0, 0.0, 1.0, 0.0, 0.0, 0.0, 0.0, 0.0, ...</td>\n    </tr>\n    <tr>\n      <th>4</th>\n      <td>منتدى</td>\n      <td>[0.0, 0.0, 0.0, 0.0, 1.0, 0.0, 0.0, 0.0, 0.0, ...</td>\n    </tr>\n    <tr>\n      <th>5</th>\n      <td>انطلاقتها</td>\n      <td>[0.0, 0.0, 0.0, 0.0, 0.0, 1.0, 0.0, 0.0, 0.0, ...</td>\n    </tr>\n    <tr>\n      <th>6</th>\n      <td>عاماً</td>\n      <td>[0.0, 0.0, 0.0, 0.0, 0.0, 0.0, 1.0, 0.0, 0.0, ...</td>\n    </tr>\n    <tr>\n      <th>7</th>\n      <td>بمرور</td>\n      <td>[0.0, 0.0, 0.0, 0.0, 0.0, 0.0, 0.0, 1.0, 0.0, ...</td>\n    </tr>\n    <tr>\n      <th>8</th>\n      <td>جدوى</td>\n      <td>[0.0, 0.0, 0.0, 0.0, 0.0, 0.0, 0.0, 0.0, 1.0, ...</td>\n    </tr>\n    <tr>\n      <th>9</th>\n      <td>تحتفل</td>\n      <td>[0.0, 0.0, 0.0, 0.0, 0.0, 0.0, 0.0, 0.0, 0.0, ...</td>\n    </tr>\n    <tr>\n      <th>10</th>\n      <td>الصحافة</td>\n      <td>[0.0, 0.0, 0.0, 0.0, 0.0, 0.0, 0.0, 0.0, 0.0, ...</td>\n    </tr>\n    <tr>\n      <th>11</th>\n      <td>بلقان</td>\n      <td>[0.0, 0.0, 0.0, 0.0, 0.0, 0.0, 0.0, 0.0, 0.0, ...</td>\n    </tr>\n    <tr>\n      <th>12</th>\n      <td>للدراسات</td>\n      <td>[0.0, 0.0, 0.0, 0.0, 0.0, 0.0, 0.0, 0.0, 0.0, ...</td>\n    </tr>\n    <tr>\n      <th>13</th>\n      <td>العربي</td>\n      <td>[0.0, 0.0, 0.0, 0.0, 0.0, 0.0, 0.0, 0.0, 0.0, ...</td>\n    </tr>\n    <tr>\n      <th>14</th>\n      <td>الخامس</td>\n      <td>[0.0, 0.0, 0.0, 0.0, 0.0, 0.0, 0.0, 0.0, 0.0, ...</td>\n    </tr>\n    <tr>\n      <th>15</th>\n      <td>اكتشف</td>\n      <td>[0.0, 0.0, 0.0, 0.0, 0.0, 0.0, 0.0, 0.0, 0.0, ...</td>\n    </tr>\n    <tr>\n      <th>16</th>\n      <td>كليات</td>\n      <td>[0.0, 0.0, 0.0, 0.0, 0.0, 0.0, 0.0, 0.0, 0.0, ...</td>\n    </tr>\n    <tr>\n      <th>17</th>\n      <td>العالم</td>\n      <td>[0.0, 0.0, 0.0, 0.0, 0.0, 0.0, 0.0, 0.0, 0.0, ...</td>\n    </tr>\n    <tr>\n      <th>18</th>\n      <td>مؤسسة</td>\n      <td>[0.0, 0.0, 0.0, 0.0, 0.0, 0.0, 0.0, 0.0, 0.0, ...</td>\n    </tr>\n    <tr>\n      <th>19</th>\n      <td>انخراط</td>\n      <td>[0.0, 0.0, 0.0, 0.0, 0.0, 0.0, 0.0, 0.0, 0.0, ...</td>\n    </tr>\n    <tr>\n      <th>20</th>\n      <td>الإسرائيلية</td>\n      <td>[0.0, 0.0, 0.0, 0.0, 0.0, 0.0, 0.0, 0.0, 0.0, ...</td>\n    </tr>\n    <tr>\n      <th>21</th>\n      <td>معرض</td>\n      <td>[0.0, 0.0, 0.0, 0.0, 0.0, 0.0, 0.0, 0.0, 0.0, ...</td>\n    </tr>\n    <tr>\n      <th>22</th>\n      <td>الداخل</td>\n      <td>[0.0, 0.0, 0.0, 0.0, 0.0, 0.0, 0.0, 0.0, 0.0, ...</td>\n    </tr>\n    <tr>\n      <th>23</th>\n      <td>للأفلام</td>\n      <td>[0.0, 0.0, 0.0, 0.0, 0.0, 0.0, 0.0, 0.0, 0.0, ...</td>\n    </tr>\n    <tr>\n      <th>24</th>\n      <td>السادس</td>\n      <td>[0.0, 0.0, 0.0, 0.0, 0.0, 0.0, 0.0, 0.0, 0.0, ...</td>\n    </tr>\n    <tr>\n      <th>25</th>\n      <td>فلسطينيّي</td>\n      <td>[0.0, 0.0, 0.0, 0.0, 0.0, 0.0, 0.0, 0.0, 0.0, ...</td>\n    </tr>\n    <tr>\n      <th>26</th>\n      <td>مهرجان</td>\n      <td>[0.0, 0.0, 0.0, 0.0, 0.0, 0.0, 0.0, 0.0, 0.0, ...</td>\n    </tr>\n  </tbody>\n</table>\n</div>"
     },
     "execution_count": 166,
     "metadata": {},
     "output_type": "execute_result"
    }
   ],
   "source": [
    "one_hot_encoded = []\n",
    "for word in unique_words:\n",
    "    encoding = np.zeros(len(unique_words))\n",
    "    \n",
    "    index = list(unique_words).index(word)\n",
    "    \n",
    "    encoding[index] = 1\n",
    "    one_hot_encoded.append((word, encoding))\n",
    "    \n",
    "df_onehot = pd.DataFrame(one_hot_encoded, columns=['Word', 'One-hot encoding'])\n",
    "df_onehot"
   ],
   "metadata": {
    "collapsed": false,
    "ExecuteTime": {
     "end_time": "2024-06-07T15:05:54.233465300Z",
     "start_time": "2024-06-07T15:05:54.139969600Z"
    }
   },
   "id": "a0f9a35990b39b6e"
  },
  {
   "cell_type": "code",
   "execution_count": 167,
   "outputs": [
    {
     "data": {
      "text/plain": "   25  اكتشف  الإسرائيلية  الجزيرة  الحكم  الخامس  الداخل  السادس  الصحافة  \\\n0   0      0            0        1      0       0       0       0        0   \n1   0      0            0        1      0       1       0       0        0   \n2   0      0            0        0      0       0       0       0        1   \n3   0      0            0        1      0       0       0       1        0   \n4   0      0            1        1      1       0       1       0        0   \n\n   العالم  ...  فلسطيني  في  كليات  للأفلام  للدراسات  مؤسسة  معرض  منتدى  \\\n0       0  ...        0   0      0        1         0      0     0      0   \n1       0  ...        0   0      0        0         0      0     0      1   \n2       1  ...        0   1      1        0         0      0     0      1   \n3       0  ...        0   0      0        1         0      0     0      0   \n4       0  ...        1   1      0        0         1      1     0      0   \n\n   مهرجان  يبحث  \n0       1     0  \n1       0     0  \n2       0     0  \n3       1     0  \n4       0     1  \n\n[5 rows x 31 columns]",
      "text/html": "<div>\n<style scoped>\n    .dataframe tbody tr th:only-of-type {\n        vertical-align: middle;\n    }\n\n    .dataframe tbody tr th {\n        vertical-align: top;\n    }\n\n    .dataframe thead th {\n        text-align: right;\n    }\n</style>\n<table border=\"1\" class=\"dataframe\">\n  <thead>\n    <tr style=\"text-align: right;\">\n      <th></th>\n      <th>25</th>\n      <th>اكتشف</th>\n      <th>الإسرائيلية</th>\n      <th>الجزيرة</th>\n      <th>الحكم</th>\n      <th>الخامس</th>\n      <th>الداخل</th>\n      <th>السادس</th>\n      <th>الصحافة</th>\n      <th>العالم</th>\n      <th>...</th>\n      <th>فلسطيني</th>\n      <th>في</th>\n      <th>كليات</th>\n      <th>للأفلام</th>\n      <th>للدراسات</th>\n      <th>مؤسسة</th>\n      <th>معرض</th>\n      <th>منتدى</th>\n      <th>مهرجان</th>\n      <th>يبحث</th>\n    </tr>\n  </thead>\n  <tbody>\n    <tr>\n      <th>0</th>\n      <td>0</td>\n      <td>0</td>\n      <td>0</td>\n      <td>1</td>\n      <td>0</td>\n      <td>0</td>\n      <td>0</td>\n      <td>0</td>\n      <td>0</td>\n      <td>0</td>\n      <td>...</td>\n      <td>0</td>\n      <td>0</td>\n      <td>0</td>\n      <td>1</td>\n      <td>0</td>\n      <td>0</td>\n      <td>0</td>\n      <td>0</td>\n      <td>1</td>\n      <td>0</td>\n    </tr>\n    <tr>\n      <th>1</th>\n      <td>0</td>\n      <td>0</td>\n      <td>0</td>\n      <td>1</td>\n      <td>0</td>\n      <td>1</td>\n      <td>0</td>\n      <td>0</td>\n      <td>0</td>\n      <td>0</td>\n      <td>...</td>\n      <td>0</td>\n      <td>0</td>\n      <td>0</td>\n      <td>0</td>\n      <td>0</td>\n      <td>0</td>\n      <td>0</td>\n      <td>1</td>\n      <td>0</td>\n      <td>0</td>\n    </tr>\n    <tr>\n      <th>2</th>\n      <td>0</td>\n      <td>0</td>\n      <td>0</td>\n      <td>0</td>\n      <td>0</td>\n      <td>0</td>\n      <td>0</td>\n      <td>0</td>\n      <td>1</td>\n      <td>1</td>\n      <td>...</td>\n      <td>0</td>\n      <td>1</td>\n      <td>1</td>\n      <td>0</td>\n      <td>0</td>\n      <td>0</td>\n      <td>0</td>\n      <td>1</td>\n      <td>0</td>\n      <td>0</td>\n    </tr>\n    <tr>\n      <th>3</th>\n      <td>0</td>\n      <td>0</td>\n      <td>0</td>\n      <td>1</td>\n      <td>0</td>\n      <td>0</td>\n      <td>0</td>\n      <td>1</td>\n      <td>0</td>\n      <td>0</td>\n      <td>...</td>\n      <td>0</td>\n      <td>0</td>\n      <td>0</td>\n      <td>1</td>\n      <td>0</td>\n      <td>0</td>\n      <td>0</td>\n      <td>0</td>\n      <td>1</td>\n      <td>0</td>\n    </tr>\n    <tr>\n      <th>4</th>\n      <td>0</td>\n      <td>0</td>\n      <td>1</td>\n      <td>1</td>\n      <td>1</td>\n      <td>0</td>\n      <td>1</td>\n      <td>0</td>\n      <td>0</td>\n      <td>0</td>\n      <td>...</td>\n      <td>1</td>\n      <td>1</td>\n      <td>0</td>\n      <td>0</td>\n      <td>1</td>\n      <td>1</td>\n      <td>0</td>\n      <td>0</td>\n      <td>0</td>\n      <td>1</td>\n    </tr>\n  </tbody>\n</table>\n<p>5 rows × 31 columns</p>\n</div>"
     },
     "execution_count": 167,
     "metadata": {},
     "output_type": "execute_result"
    }
   ],
   "source": [
    "vectorizer = CountVectorizer()\n",
    "X = vectorizer.fit_transform(titles_list)\n",
    "df_BoW = pd.DataFrame(X.toarray(),columns=vectorizer.get_feature_names_out())\n",
    "df_BoW.head()"
   ],
   "metadata": {
    "collapsed": false,
    "ExecuteTime": {
     "end_time": "2024-06-07T15:05:57.132068800Z",
     "start_time": "2024-06-07T15:05:57.043054800Z"
    }
   },
   "id": "7529d64d896c7e4b"
  },
  {
   "cell_type": "code",
   "execution_count": 168,
   "outputs": [
    {
     "data": {
      "text/plain": "    25  اكتشف  الإسرائيلية   الجزيرة     الحكم    الخامس    الداخل    السادس  \\\n0  0.0    0.0     0.000000  0.275087  0.000000  0.000000  0.000000  0.000000   \n1  0.0    0.0     0.000000  0.278236  0.000000  0.585739  0.000000  0.000000   \n2  0.0    0.0     0.000000  0.000000  0.000000  0.000000  0.000000  0.000000   \n3  0.0    0.0     0.000000  0.238051  0.000000  0.000000  0.000000  0.501141   \n4  0.0    0.0     0.317585  0.150859  0.317585  0.000000  0.317585  0.000000   \n\n    الصحافة    العالم  ...   فلسطيني        في     كليات  للأفلام  للدراسات  \\\n0  0.000000  0.000000  ...  0.000000  0.000000  0.000000  0.48071  0.000000   \n1  0.000000  0.000000  ...  0.000000  0.000000  0.000000  0.00000  0.000000   \n2  0.431207  0.431207  ...  0.000000  0.357939  0.431207  0.00000  0.000000   \n3  0.000000  0.000000  ...  0.000000  0.000000  0.000000  0.41599  0.000000   \n4  0.000000  0.000000  ...  0.317585  0.263623  0.000000  0.00000  0.317585   \n\n      مؤسسة  معرض     منتدى   مهرجان      يبحث  \n0  0.000000   0.0  0.000000  0.48071  0.000000  \n1  0.000000   0.0  0.486214  0.00000  0.000000  \n2  0.000000   0.0  0.357939  0.00000  0.000000  \n3  0.000000   0.0  0.000000  0.41599  0.000000  \n4  0.317585   0.0  0.000000  0.00000  0.317585  \n\n[5 rows x 31 columns]",
      "text/html": "<div>\n<style scoped>\n    .dataframe tbody tr th:only-of-type {\n        vertical-align: middle;\n    }\n\n    .dataframe tbody tr th {\n        vertical-align: top;\n    }\n\n    .dataframe thead th {\n        text-align: right;\n    }\n</style>\n<table border=\"1\" class=\"dataframe\">\n  <thead>\n    <tr style=\"text-align: right;\">\n      <th></th>\n      <th>25</th>\n      <th>اكتشف</th>\n      <th>الإسرائيلية</th>\n      <th>الجزيرة</th>\n      <th>الحكم</th>\n      <th>الخامس</th>\n      <th>الداخل</th>\n      <th>السادس</th>\n      <th>الصحافة</th>\n      <th>العالم</th>\n      <th>...</th>\n      <th>فلسطيني</th>\n      <th>في</th>\n      <th>كليات</th>\n      <th>للأفلام</th>\n      <th>للدراسات</th>\n      <th>مؤسسة</th>\n      <th>معرض</th>\n      <th>منتدى</th>\n      <th>مهرجان</th>\n      <th>يبحث</th>\n    </tr>\n  </thead>\n  <tbody>\n    <tr>\n      <th>0</th>\n      <td>0.0</td>\n      <td>0.0</td>\n      <td>0.000000</td>\n      <td>0.275087</td>\n      <td>0.000000</td>\n      <td>0.000000</td>\n      <td>0.000000</td>\n      <td>0.000000</td>\n      <td>0.000000</td>\n      <td>0.000000</td>\n      <td>...</td>\n      <td>0.000000</td>\n      <td>0.000000</td>\n      <td>0.000000</td>\n      <td>0.48071</td>\n      <td>0.000000</td>\n      <td>0.000000</td>\n      <td>0.0</td>\n      <td>0.000000</td>\n      <td>0.48071</td>\n      <td>0.000000</td>\n    </tr>\n    <tr>\n      <th>1</th>\n      <td>0.0</td>\n      <td>0.0</td>\n      <td>0.000000</td>\n      <td>0.278236</td>\n      <td>0.000000</td>\n      <td>0.585739</td>\n      <td>0.000000</td>\n      <td>0.000000</td>\n      <td>0.000000</td>\n      <td>0.000000</td>\n      <td>...</td>\n      <td>0.000000</td>\n      <td>0.000000</td>\n      <td>0.000000</td>\n      <td>0.00000</td>\n      <td>0.000000</td>\n      <td>0.000000</td>\n      <td>0.0</td>\n      <td>0.486214</td>\n      <td>0.00000</td>\n      <td>0.000000</td>\n    </tr>\n    <tr>\n      <th>2</th>\n      <td>0.0</td>\n      <td>0.0</td>\n      <td>0.000000</td>\n      <td>0.000000</td>\n      <td>0.000000</td>\n      <td>0.000000</td>\n      <td>0.000000</td>\n      <td>0.000000</td>\n      <td>0.431207</td>\n      <td>0.431207</td>\n      <td>...</td>\n      <td>0.000000</td>\n      <td>0.357939</td>\n      <td>0.431207</td>\n      <td>0.00000</td>\n      <td>0.000000</td>\n      <td>0.000000</td>\n      <td>0.0</td>\n      <td>0.357939</td>\n      <td>0.00000</td>\n      <td>0.000000</td>\n    </tr>\n    <tr>\n      <th>3</th>\n      <td>0.0</td>\n      <td>0.0</td>\n      <td>0.000000</td>\n      <td>0.238051</td>\n      <td>0.000000</td>\n      <td>0.000000</td>\n      <td>0.000000</td>\n      <td>0.501141</td>\n      <td>0.000000</td>\n      <td>0.000000</td>\n      <td>...</td>\n      <td>0.000000</td>\n      <td>0.000000</td>\n      <td>0.000000</td>\n      <td>0.41599</td>\n      <td>0.000000</td>\n      <td>0.000000</td>\n      <td>0.0</td>\n      <td>0.000000</td>\n      <td>0.41599</td>\n      <td>0.000000</td>\n    </tr>\n    <tr>\n      <th>4</th>\n      <td>0.0</td>\n      <td>0.0</td>\n      <td>0.317585</td>\n      <td>0.150859</td>\n      <td>0.317585</td>\n      <td>0.000000</td>\n      <td>0.317585</td>\n      <td>0.000000</td>\n      <td>0.000000</td>\n      <td>0.000000</td>\n      <td>...</td>\n      <td>0.317585</td>\n      <td>0.263623</td>\n      <td>0.000000</td>\n      <td>0.00000</td>\n      <td>0.317585</td>\n      <td>0.317585</td>\n      <td>0.0</td>\n      <td>0.000000</td>\n      <td>0.00000</td>\n      <td>0.317585</td>\n    </tr>\n  </tbody>\n</table>\n<p>5 rows × 31 columns</p>\n</div>"
     },
     "execution_count": 168,
     "metadata": {},
     "output_type": "execute_result"
    }
   ],
   "source": [
    "tr_idf_model  = TfidfVectorizer()\n",
    "tf_idf_vector = tr_idf_model.fit_transform(titles_list)\n",
    "tf_idf_array = tf_idf_vector.toarray()\n",
    "df_tf_idf = pd.DataFrame(tf_idf_array, columns = tr_idf_model.get_feature_names_out())\n",
    "df_tf_idf.head()"
   ],
   "metadata": {
    "collapsed": false,
    "ExecuteTime": {
     "end_time": "2024-06-07T15:05:57.735247900Z",
     "start_time": "2024-06-07T15:05:57.534908400Z"
    }
   },
   "id": "e3468d6deb24cb42"
  },
  {
   "cell_type": "code",
   "execution_count": 169,
   "outputs": [],
   "source": [
    "tokenized_corpus = []\n",
    "for sentence in titles_list:\n",
    "    tokenized_sentence = [word for word in araby.tokenize(sentence) if (word not in stopwords.words('arabic')) and (word.isdigit() == False) and (word not in ['.', ',', '!', '?', ':', ';', '،', '؟', '؛'])]\n",
    "    tokenized_corpus.append(tokenized_sentence)"
   ],
   "metadata": {
    "collapsed": false,
    "ExecuteTime": {
     "end_time": "2024-06-07T15:05:58.027932400Z",
     "start_time": "2024-06-07T15:05:57.813254800Z"
    }
   },
   "id": "5d71c662d51a96a6"
  },
  {
   "cell_type": "code",
   "execution_count": 170,
   "outputs": [
    {
     "name": "stdout",
     "output_type": "stream",
     "text": [
      "Tokenized corpus: [['مهرجان', 'الجزيرة', 'بلقان', 'للأفلام', 'الوثائقية'], ['منتدى', 'الجزيرة', 'الخامس'], ['منتدى', 'كليات', 'الصحافة', 'العالم', 'العربي'], ['مهرجان', 'الجزيرة', 'بلقان', 'السادس', 'للأفلام', 'الوثائقية'], ['الجزيرة', 'للدراسات', 'يبحث', 'جدوى', 'انخراط', 'فلسطينيّي', 'الداخل', 'مؤسسة', 'الحكم', 'الإسرائيلية'], ['معرض', 'اكتشف', 'الجزيرة'], ['الجزيرة', 'تحتفل', 'بمرور', 'عاماً', 'انطلاقتها']]\n"
     ]
    }
   ],
   "source": [
    "print(f\"Tokenized corpus: {tokenized_corpus}\")"
   ],
   "metadata": {
    "collapsed": false,
    "ExecuteTime": {
     "end_time": "2024-06-07T15:05:58.874450400Z",
     "start_time": "2024-06-07T15:05:58.703470200Z"
    }
   },
   "id": "9a7e0bb384669c2f"
  },
  {
   "cell_type": "code",
   "execution_count": 171,
   "outputs": [
    {
     "ename": "NameError",
     "evalue": "name 'word2vec' is not defined",
     "output_type": "error",
     "traceback": [
      "\u001B[1;31m---------------------------------------------------------------------------\u001B[0m",
      "\u001B[1;31mNameError\u001B[0m                                 Traceback (most recent call last)",
      "Cell \u001B[1;32mIn[171], line 1\u001B[0m\n\u001B[1;32m----> 1\u001B[0m cbow_w2v_model \u001B[38;5;241m=\u001B[39m \u001B[43mword2vec\u001B[49m\u001B[38;5;241m.\u001B[39mWord2Vec(tokenized_corpus, vector_size\u001B[38;5;241m=\u001B[39m\u001B[38;5;241m100\u001B[39m, window\u001B[38;5;241m=\u001B[39m\u001B[38;5;241m30\u001B[39m,\n\u001B[0;32m      2\u001B[0m                             min_count\u001B[38;5;241m=\u001B[39m\u001B[38;5;241m1\u001B[39m, sample\u001B[38;5;241m=\u001B[39m\u001B[38;5;241m1e-3\u001B[39m, sg\u001B[38;5;241m=\u001B[39m\u001B[38;5;241m0\u001B[39m, epochs\u001B[38;5;241m=\u001B[39m\u001B[38;5;241m1000\u001B[39m)\n",
      "\u001B[1;31mNameError\u001B[0m: name 'word2vec' is not defined"
     ]
    }
   ],
   "source": [
    "cbow_w2v_model = word2vec.Word2Vec(tokenized_corpus, vector_size=100, window=30,\n",
    "                            min_count=1, sample=1e-3, sg=0, epochs=1000)"
   ],
   "metadata": {
    "collapsed": false,
    "ExecuteTime": {
     "end_time": "2024-06-07T15:05:59.590051600Z",
     "start_time": "2024-06-07T15:05:59.531523200Z"
    }
   },
   "id": "fdea6a0c48622be0"
  },
  {
   "cell_type": "code",
   "execution_count": null,
   "outputs": [],
   "source": [],
   "metadata": {
    "collapsed": false
   },
   "id": "391128d787803819"
  }
 ],
 "metadata": {
  "kernelspec": {
   "display_name": "Python 3",
   "language": "python",
   "name": "python3"
  },
  "language_info": {
   "codemirror_mode": {
    "name": "ipython",
    "version": 2
   },
   "file_extension": ".py",
   "mimetype": "text/x-python",
   "name": "python",
   "nbconvert_exporter": "python",
   "pygments_lexer": "ipython2",
   "version": "2.7.6"
  }
 },
 "nbformat": 4,
 "nbformat_minor": 5
}
