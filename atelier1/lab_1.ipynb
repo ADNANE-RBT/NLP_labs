{
 "cells": [
  {
   "cell_type": "markdown",
   "source": [
    "# Step 1: we need to Install the libraries"
   ],
   "metadata": {
    "collapsed": false
   },
   "id": "eaade78332f1c1f3"
  },
  {
   "cell_type": "markdown",
   "source": [
    "i'll use Beautiful Soup and Requests to scrape the webpage content. In our presentation of the project, we were asked why scrapy and not Beautiful Soup.\n",
    "Scrapy can also be used for more complex scraping tasks, but i'll keep it simple here"
   ],
   "metadata": {
    "collapsed": false
   },
   "id": "2506ab06bf2b5ad1"
  },
  {
   "cell_type": "code",
   "execution_count": 30,
   "outputs": [
    {
     "name": "stdout",
     "output_type": "stream",
     "text": [
      "Requirement already satisfied: requests in c:\\users\\dell pc\\pycharmprojects\\atelier1\\venv\\lib\\site-packages (2.32.3)\n",
      "Requirement already satisfied: beautifulsoup4 in c:\\users\\dell pc\\pycharmprojects\\atelier1\\venv\\lib\\site-packages (4.12.3)\n",
      "Requirement already satisfied: pymongo in c:\\users\\dell pc\\pycharmprojects\\atelier1\\venv\\lib\\site-packages (4.7.3)\n",
      "Requirement already satisfied: nltk in c:\\users\\dell pc\\pycharmprojects\\atelier1\\venv\\lib\\site-packages (3.8.1)\n",
      "Requirement already satisfied: spacy in c:\\users\\dell pc\\pycharmprojects\\atelier1\\venv\\lib\\site-packages (3.7.5)\n",
      "Requirement already satisfied: charset-normalizer<4,>=2 in c:\\users\\dell pc\\pycharmprojects\\atelier1\\venv\\lib\\site-packages (from requests) (3.3.2)\n",
      "Requirement already satisfied: idna<4,>=2.5 in c:\\users\\dell pc\\pycharmprojects\\atelier1\\venv\\lib\\site-packages (from requests) (3.7)\n",
      "Requirement already satisfied: urllib3<3,>=1.21.1 in c:\\users\\dell pc\\pycharmprojects\\atelier1\\venv\\lib\\site-packages (from requests) (2.2.1)\n",
      "Requirement already satisfied: certifi>=2017.4.17 in c:\\users\\dell pc\\pycharmprojects\\atelier1\\venv\\lib\\site-packages (from requests) (2024.6.2)\n",
      "Requirement already satisfied: soupsieve>1.2 in c:\\users\\dell pc\\pycharmprojects\\atelier1\\venv\\lib\\site-packages (from beautifulsoup4) (2.5)\n",
      "Requirement already satisfied: dnspython<3.0.0,>=1.16.0 in c:\\users\\dell pc\\pycharmprojects\\atelier1\\venv\\lib\\site-packages (from pymongo) (2.6.1)\n",
      "Requirement already satisfied: click in c:\\users\\dell pc\\pycharmprojects\\atelier1\\venv\\lib\\site-packages (from nltk) (8.1.7)\n",
      "Requirement already satisfied: joblib in c:\\users\\dell pc\\pycharmprojects\\atelier1\\venv\\lib\\site-packages (from nltk) (1.4.2)\n",
      "Requirement already satisfied: regex>=2021.8.3 in c:\\users\\dell pc\\pycharmprojects\\atelier1\\venv\\lib\\site-packages (from nltk) (2024.5.15)\n",
      "Requirement already satisfied: tqdm in c:\\users\\dell pc\\pycharmprojects\\atelier1\\venv\\lib\\site-packages (from nltk) (4.66.4)\n",
      "Requirement already satisfied: spacy-legacy<3.1.0,>=3.0.11 in c:\\users\\dell pc\\pycharmprojects\\atelier1\\venv\\lib\\site-packages (from spacy) (3.0.12)\n",
      "Requirement already satisfied: spacy-loggers<2.0.0,>=1.0.0 in c:\\users\\dell pc\\pycharmprojects\\atelier1\\venv\\lib\\site-packages (from spacy) (1.0.5)\n",
      "Requirement already satisfied: murmurhash<1.1.0,>=0.28.0 in c:\\users\\dell pc\\pycharmprojects\\atelier1\\venv\\lib\\site-packages (from spacy) (1.0.10)\n",
      "Requirement already satisfied: cymem<2.1.0,>=2.0.2 in c:\\users\\dell pc\\pycharmprojects\\atelier1\\venv\\lib\\site-packages (from spacy) (2.0.8)\n",
      "Requirement already satisfied: preshed<3.1.0,>=3.0.2 in c:\\users\\dell pc\\pycharmprojects\\atelier1\\venv\\lib\\site-packages (from spacy) (3.0.9)\n",
      "Requirement already satisfied: thinc<8.3.0,>=8.2.2 in c:\\users\\dell pc\\pycharmprojects\\atelier1\\venv\\lib\\site-packages (from spacy) (8.2.4)\n",
      "Requirement already satisfied: wasabi<1.2.0,>=0.9.1 in c:\\users\\dell pc\\pycharmprojects\\atelier1\\venv\\lib\\site-packages (from spacy) (1.1.3)\n",
      "Requirement already satisfied: srsly<3.0.0,>=2.4.3 in c:\\users\\dell pc\\pycharmprojects\\atelier1\\venv\\lib\\site-packages (from spacy) (2.4.8)\n",
      "Requirement already satisfied: catalogue<2.1.0,>=2.0.6 in c:\\users\\dell pc\\pycharmprojects\\atelier1\\venv\\lib\\site-packages (from spacy) (2.0.10)\n",
      "Requirement already satisfied: weasel<0.5.0,>=0.1.0 in c:\\users\\dell pc\\pycharmprojects\\atelier1\\venv\\lib\\site-packages (from spacy) (0.4.1)\n",
      "Requirement already satisfied: typer<1.0.0,>=0.3.0 in c:\\users\\dell pc\\pycharmprojects\\atelier1\\venv\\lib\\site-packages (from spacy) (0.12.3)\n",
      "Requirement already satisfied: pydantic!=1.8,!=1.8.1,<3.0.0,>=1.7.4 in c:\\users\\dell pc\\pycharmprojects\\atelier1\\venv\\lib\\site-packages (from spacy) (2.7.3)\n",
      "Requirement already satisfied: jinja2 in c:\\users\\dell pc\\pycharmprojects\\atelier1\\venv\\lib\\site-packages (from spacy) (3.1.4)\n",
      "Requirement already satisfied: setuptools in c:\\users\\dell pc\\pycharmprojects\\atelier1\\venv\\lib\\site-packages (from spacy) (68.2.0)\n",
      "Requirement already satisfied: packaging>=20.0 in c:\\users\\dell pc\\pycharmprojects\\atelier1\\venv\\lib\\site-packages (from spacy) (24.0)\n",
      "Requirement already satisfied: langcodes<4.0.0,>=3.2.0 in c:\\users\\dell pc\\pycharmprojects\\atelier1\\venv\\lib\\site-packages (from spacy) (3.4.0)\n",
      "Requirement already satisfied: numpy>=1.19.0 in c:\\users\\dell pc\\pycharmprojects\\atelier1\\venv\\lib\\site-packages (from spacy) (1.26.4)\n",
      "Requirement already satisfied: language-data>=1.2 in c:\\users\\dell pc\\pycharmprojects\\atelier1\\venv\\lib\\site-packages (from langcodes<4.0.0,>=3.2.0->spacy) (1.2.0)\n",
      "Requirement already satisfied: annotated-types>=0.4.0 in c:\\users\\dell pc\\pycharmprojects\\atelier1\\venv\\lib\\site-packages (from pydantic!=1.8,!=1.8.1,<3.0.0,>=1.7.4->spacy) (0.7.0)\n",
      "Requirement already satisfied: pydantic-core==2.18.4 in c:\\users\\dell pc\\pycharmprojects\\atelier1\\venv\\lib\\site-packages (from pydantic!=1.8,!=1.8.1,<3.0.0,>=1.7.4->spacy) (2.18.4)\n",
      "Requirement already satisfied: typing-extensions>=4.6.1 in c:\\users\\dell pc\\pycharmprojects\\atelier1\\venv\\lib\\site-packages (from pydantic!=1.8,!=1.8.1,<3.0.0,>=1.7.4->spacy) (4.12.1)\n",
      "Requirement already satisfied: blis<0.8.0,>=0.7.8 in c:\\users\\dell pc\\pycharmprojects\\atelier1\\venv\\lib\\site-packages (from thinc<8.3.0,>=8.2.2->spacy) (0.7.11)\n",
      "Requirement already satisfied: confection<1.0.0,>=0.0.1 in c:\\users\\dell pc\\pycharmprojects\\atelier1\\venv\\lib\\site-packages (from thinc<8.3.0,>=8.2.2->spacy) (0.1.5)\n",
      "Requirement already satisfied: colorama in c:\\users\\dell pc\\pycharmprojects\\atelier1\\venv\\lib\\site-packages (from tqdm->nltk) (0.4.6)\n",
      "Requirement already satisfied: shellingham>=1.3.0 in c:\\users\\dell pc\\pycharmprojects\\atelier1\\venv\\lib\\site-packages (from typer<1.0.0,>=0.3.0->spacy) (1.5.4)\n",
      "Requirement already satisfied: rich>=10.11.0 in c:\\users\\dell pc\\pycharmprojects\\atelier1\\venv\\lib\\site-packages (from typer<1.0.0,>=0.3.0->spacy) (13.7.1)\n",
      "Requirement already satisfied: cloudpathlib<1.0.0,>=0.7.0 in c:\\users\\dell pc\\pycharmprojects\\atelier1\\venv\\lib\\site-packages (from weasel<0.5.0,>=0.1.0->spacy) (0.18.1)\n",
      "Requirement already satisfied: smart-open<8.0.0,>=5.2.1 in c:\\users\\dell pc\\pycharmprojects\\atelier1\\venv\\lib\\site-packages (from weasel<0.5.0,>=0.1.0->spacy) (7.0.4)\n",
      "Requirement already satisfied: MarkupSafe>=2.0 in c:\\users\\dell pc\\pycharmprojects\\atelier1\\venv\\lib\\site-packages (from jinja2->spacy) (2.1.5)\n",
      "Requirement already satisfied: marisa-trie>=0.7.7 in c:\\users\\dell pc\\pycharmprojects\\atelier1\\venv\\lib\\site-packages (from language-data>=1.2->langcodes<4.0.0,>=3.2.0->spacy) (1.2.0)\n",
      "Requirement already satisfied: markdown-it-py>=2.2.0 in c:\\users\\dell pc\\pycharmprojects\\atelier1\\venv\\lib\\site-packages (from rich>=10.11.0->typer<1.0.0,>=0.3.0->spacy) (3.0.0)\n",
      "Requirement already satisfied: pygments<3.0.0,>=2.13.0 in c:\\users\\dell pc\\pycharmprojects\\atelier1\\venv\\lib\\site-packages (from rich>=10.11.0->typer<1.0.0,>=0.3.0->spacy) (2.18.0)\n",
      "Requirement already satisfied: wrapt in c:\\users\\dell pc\\pycharmprojects\\atelier1\\venv\\lib\\site-packages (from smart-open<8.0.0,>=5.2.1->weasel<0.5.0,>=0.1.0->spacy) (1.16.0)\n",
      "Requirement already satisfied: mdurl~=0.1 in c:\\users\\dell pc\\pycharmprojects\\atelier1\\venv\\lib\\site-packages (from markdown-it-py>=2.2.0->rich>=10.11.0->typer<1.0.0,>=0.3.0->spacy) (0.1.2)\n"
     ]
    }
   ],
   "source": [
    "!pip install requests beautifulsoup4 pymongo nltk spacy\n",
    "\n"
   ],
   "metadata": {
    "collapsed": false,
    "ExecuteTime": {
     "end_time": "2024-06-07T00:03:06.097122300Z",
     "start_time": "2024-06-07T00:02:55.082192Z"
    }
   },
   "id": "98605f1dfeb6f8ff"
  },
  {
   "cell_type": "code",
   "execution_count": 31,
   "outputs": [],
   "source": [
    "import requests\n",
    "from bs4 import BeautifulSoup"
   ],
   "metadata": {
    "collapsed": false,
    "ExecuteTime": {
     "end_time": "2024-06-07T00:03:06.104122100Z",
     "start_time": "2024-06-07T00:03:06.086123700Z"
    }
   },
   "id": "67c655b8c5100943"
  },
  {
   "cell_type": "code",
   "execution_count": 32,
   "outputs": [],
   "source": [
    "url = 'https://network.aljazeera.net/ar/events'\n",
    "response = requests.get(url)"
   ],
   "metadata": {
    "collapsed": false,
    "ExecuteTime": {
     "end_time": "2024-06-07T00:03:06.457405100Z",
     "start_time": "2024-06-07T00:03:06.092122400Z"
    }
   },
   "id": "a3306f57bfb27ef6"
  },
  {
   "cell_type": "markdown",
   "source": [
    "after inspecting the website, i foudn that the titles of events is usually in the format of :\n",
    "<h3 class=\"title\"><a href=\"link\" hreflang=\"ar\">معرض اكتشف الجزيرة</a></h3>\n",
    "so we can scrap h3 html tags with title class\n"
   ],
   "metadata": {
    "collapsed": false
   },
   "id": "351b7a7e532dbb19"
  },
  {
   "cell_type": "code",
   "execution_count": 33,
   "outputs": [],
   "source": [
    "if response.status_code == 200:\n",
    "    soup = BeautifulSoup(response.content, 'html.parser')\n",
    "    titles = []\n",
    "    for h3_tag in soup.find_all('h3', class_='title'):\n",
    "        title = h3_tag.get_text(strip=True)\n",
    "        titles.append(title)\n",
    "else:\n",
    "    print(f\"Failed to retrieve the webpage. Status code: {response.status_code}\")\n"
   ],
   "metadata": {
    "collapsed": false,
    "ExecuteTime": {
     "end_time": "2024-06-07T00:03:06.512813100Z",
     "start_time": "2024-06-07T00:03:06.489406800Z"
    }
   },
   "id": "8e9f986976ce121a"
  },
  {
   "cell_type": "markdown",
   "source": [],
   "metadata": {
    "collapsed": false
   },
   "id": "a27fb2a51391e0d3"
  },
  {
   "cell_type": "code",
   "execution_count": 34,
   "outputs": [
    {
     "name": "stdout",
     "output_type": "stream",
     "text": [
      "['مهرجان الجزيرة بلقان للأفلام الوثائقية', 'منتدى الجزيرة الخامس عشر', 'منتدى كليات الصحافة في العالم العربي', 'مهرجان الجزيرة بلقان السادس للأفلام الوثائقية', 'الجزيرة للدراسات يبحث جدوى انخراط فلسطينيّي الداخل في مؤسسة الحكم الإسرائيلية', 'معرض اكتشف الجزيرة', 'الجزيرة تحتفل بمرور 25 عاماً على انطلاقتها', 'منتدى الجزيرة 2019: الخليج بين الأزمة وتراجع التأثير الاستراتيجي', 'أربعون عاماً على الثورة الإسلامية في إيران', 'الاحتفال بالذكرى الثانية والعشرين لانطلاق شبكة الجزيرة الإعلامية', 'معهد الجزيرة ينظم منتدى للإعلام الرقمي بإسطنبول', 'وقفة تضامنية مع الصحفي جمال خاشقجي', 'نادي الصحافة القومي بواشنطن يستضيف الجزيرة', 'اختتام مهرجان الجزيرة بلقان للأفلام الوثائقية بسراييفو']\n"
     ]
    }
   ],
   "source": [
    "print(titles)"
   ],
   "metadata": {
    "collapsed": false,
    "ExecuteTime": {
     "end_time": "2024-06-07T00:03:06.531292900Z",
     "start_time": "2024-06-07T00:03:06.512813100Z"
    }
   },
   "id": "3c79dcaa4c708687"
  },
  {
   "cell_type": "markdown",
   "source": [
    "Now that we were able to scrap the data, and visualise it, lets save it in our database"
   ],
   "metadata": {
    "collapsed": false
   },
   "id": "23c6646e78537f47"
  },
  {
   "cell_type": "markdown",
   "source": [
    "# Step 2 : Storing the Raw Data in MongoDB"
   ],
   "metadata": {
    "collapsed": false
   },
   "id": "e467c377d5de3a13"
  },
  {
   "cell_type": "code",
   "execution_count": 35,
   "outputs": [],
   "source": [
    "from pymongo import MongoClient"
   ],
   "metadata": {
    "collapsed": false,
    "ExecuteTime": {
     "end_time": "2024-06-07T00:03:06.658219600Z",
     "start_time": "2024-06-07T00:03:06.532294700Z"
    }
   },
   "id": "b3f144a627d4f404"
  },
  {
   "cell_type": "code",
   "execution_count": 36,
   "outputs": [],
   "source": [
    "# we need to Connect to MongoDB\n",
    "client = MongoClient('localhost', 27017)\n",
    "db = client['web_scraping']\n",
    "collection = db['aljazeera_events']"
   ],
   "metadata": {
    "collapsed": false,
    "ExecuteTime": {
     "end_time": "2024-06-07T00:03:06.680460600Z",
     "start_time": "2024-06-07T00:03:06.637224500Z"
    }
   },
   "id": "f7ec273b5f4cf2b8"
  },
  {
   "cell_type": "code",
   "execution_count": 37,
   "outputs": [],
   "source": [
    "# Insert the titles into MongoDB\n",
    "for title in titles:\n",
    "    collection.insert_one({'title': title})"
   ],
   "metadata": {
    "collapsed": false,
    "ExecuteTime": {
     "end_time": "2024-06-07T00:03:06.721605900Z",
     "start_time": "2024-06-07T00:03:06.679456600Z"
    }
   },
   "id": "8511749776b00283"
  },
  {
   "cell_type": "code",
   "execution_count": 38,
   "outputs": [
    {
     "name": "stdout",
     "output_type": "stream",
     "text": [
      "{'_id': ObjectId('6662452d4a1e9f1b0c6f75bd'), 'title': 'مهرجان الجزيرة بلقان للأفلام الوثائقية'}\n",
      "{'_id': ObjectId('6662452d4a1e9f1b0c6f75be'), 'title': 'منتدى الجزيرة الخامس عشر'}\n",
      "{'_id': ObjectId('6662452d4a1e9f1b0c6f75bf'), 'title': 'منتدى كليات الصحافة في العالم العربي'}\n",
      "{'_id': ObjectId('6662452d4a1e9f1b0c6f75c0'), 'title': 'مهرجان الجزيرة بلقان السادس للأفلام الوثائقية'}\n",
      "{'_id': ObjectId('6662452d4a1e9f1b0c6f75c1'), 'title': 'الجزيرة للدراسات يبحث جدوى انخراط فلسطينيّي الداخل في مؤسسة الحكم الإسرائيلية'}\n",
      "{'_id': ObjectId('6662452d4a1e9f1b0c6f75c2'), 'title': 'معرض اكتشف الجزيرة'}\n",
      "{'_id': ObjectId('6662452d4a1e9f1b0c6f75c3'), 'title': 'الجزيرة تحتفل بمرور 25 عاماً على انطلاقتها'}\n",
      "{'_id': ObjectId('6662452d4a1e9f1b0c6f75c4'), 'title': 'منتدى الجزيرة 2019: الخليج بين الأزمة وتراجع التأثير الاستراتيجي'}\n",
      "{'_id': ObjectId('6662452d4a1e9f1b0c6f75c5'), 'title': 'أربعون عاماً على الثورة الإسلامية في إيران'}\n",
      "{'_id': ObjectId('6662452d4a1e9f1b0c6f75c6'), 'title': 'الاحتفال بالذكرى الثانية والعشرين لانطلاق شبكة الجزيرة الإعلامية'}\n",
      "{'_id': ObjectId('6662452d4a1e9f1b0c6f75c7'), 'title': 'معهد الجزيرة ينظم منتدى للإعلام الرقمي بإسطنبول'}\n",
      "{'_id': ObjectId('6662452d4a1e9f1b0c6f75c8'), 'title': 'وقفة تضامنية مع الصحفي جمال خاشقجي'}\n",
      "{'_id': ObjectId('6662452d4a1e9f1b0c6f75c9'), 'title': 'نادي الصحافة القومي بواشنطن يستضيف الجزيرة'}\n",
      "{'_id': ObjectId('6662452d4a1e9f1b0c6f75ca'), 'title': 'اختتام مهرجان الجزيرة بلقان للأفلام الوثائقية بسراييفو'}\n",
      "{'_id': ObjectId('66624e3a4a1e9f1b0c6f75cc'), 'title': 'مهرجان الجزيرة بلقان للأفلام الوثائقية'}\n",
      "{'_id': ObjectId('66624e3a4a1e9f1b0c6f75cd'), 'title': 'منتدى الجزيرة الخامس عشر'}\n",
      "{'_id': ObjectId('66624e3a4a1e9f1b0c6f75ce'), 'title': 'منتدى كليات الصحافة في العالم العربي'}\n",
      "{'_id': ObjectId('66624e3a4a1e9f1b0c6f75cf'), 'title': 'مهرجان الجزيرة بلقان السادس للأفلام الوثائقية'}\n",
      "{'_id': ObjectId('66624e3a4a1e9f1b0c6f75d0'), 'title': 'الجزيرة للدراسات يبحث جدوى انخراط فلسطينيّي الداخل في مؤسسة الحكم الإسرائيلية'}\n",
      "{'_id': ObjectId('66624e3a4a1e9f1b0c6f75d1'), 'title': 'معرض اكتشف الجزيرة'}\n",
      "{'_id': ObjectId('66624e3a4a1e9f1b0c6f75d2'), 'title': 'الجزيرة تحتفل بمرور 25 عاماً على انطلاقتها'}\n",
      "{'_id': ObjectId('66624e3a4a1e9f1b0c6f75d3'), 'title': 'منتدى الجزيرة 2019: الخليج بين الأزمة وتراجع التأثير الاستراتيجي'}\n",
      "{'_id': ObjectId('66624e3a4a1e9f1b0c6f75d4'), 'title': 'أربعون عاماً على الثورة الإسلامية في إيران'}\n",
      "{'_id': ObjectId('66624e3a4a1e9f1b0c6f75d5'), 'title': 'الاحتفال بالذكرى الثانية والعشرين لانطلاق شبكة الجزيرة الإعلامية'}\n",
      "{'_id': ObjectId('66624e3a4a1e9f1b0c6f75d6'), 'title': 'معهد الجزيرة ينظم منتدى للإعلام الرقمي بإسطنبول'}\n",
      "{'_id': ObjectId('66624e3a4a1e9f1b0c6f75d7'), 'title': 'وقفة تضامنية مع الصحفي جمال خاشقجي'}\n",
      "{'_id': ObjectId('66624e3a4a1e9f1b0c6f75d8'), 'title': 'نادي الصحافة القومي بواشنطن يستضيف الجزيرة'}\n",
      "{'_id': ObjectId('66624e3a4a1e9f1b0c6f75d9'), 'title': 'اختتام مهرجان الجزيرة بلقان للأفلام الوثائقية بسراييفو'}\n"
     ]
    }
   ],
   "source": [
    "# Verify the insertion\n",
    "for event in collection.find():\n",
    "    print(event)"
   ],
   "metadata": {
    "collapsed": false,
    "ExecuteTime": {
     "end_time": "2024-06-07T00:03:06.741714300Z",
     "start_time": "2024-06-07T00:03:06.713604100Z"
    }
   },
   "id": "fe5ba888f9afdbe7"
  },
  {
   "cell_type": "markdown",
   "source": [
    "Even if we save the data, we had to make sure it was actually saved and no errors occurred "
   ],
   "metadata": {
    "collapsed": false
   },
   "id": "cd807b01bdc83ba0"
  },
  {
   "cell_type": "markdown",
   "source": [
    "# Step 3: Establishment of NLP Pipeline"
   ],
   "metadata": {
    "collapsed": false
   },
   "id": "bb46b30a3823004e"
  },
  {
   "cell_type": "markdown",
   "source": [
    "I'll use libraries like NLTK or SpaCy for NLP tasks, i have already installed them above."
   ],
   "metadata": {
    "collapsed": false
   },
   "id": "35a5591993346797"
  },
  {
   "cell_type": "code",
   "execution_count": 39,
   "outputs": [],
   "source": [
    "import nltk\n",
    "from nltk.tokenize import word_tokenize\n",
    "from nltk.corpus import stopwords\n",
    "from nltk.stem import PorterStemmer, WordNetLemmatizer, SnowballStemmer\n",
    "import spacy"
   ],
   "metadata": {
    "collapsed": false,
    "ExecuteTime": {
     "end_time": "2024-06-07T00:03:06.742703100Z",
     "start_time": "2024-06-07T00:03:06.728605Z"
    }
   },
   "id": "2d20570c0ed85225"
  },
  {
   "cell_type": "code",
   "execution_count": 40,
   "outputs": [
    {
     "name": "stderr",
     "output_type": "stream",
     "text": [
      "[nltk_data] Downloading package punkt to C:\\Users\\Dell\n",
      "[nltk_data]     PC\\AppData\\Roaming\\nltk_data...\n",
      "[nltk_data]   Package punkt is already up-to-date!\n",
      "[nltk_data] Downloading package stopwords to C:\\Users\\Dell\n",
      "[nltk_data]     PC\\AppData\\Roaming\\nltk_data...\n",
      "[nltk_data]   Package stopwords is already up-to-date!\n",
      "[nltk_data] Downloading package wordnet to C:\\Users\\Dell\n",
      "[nltk_data]     PC\\AppData\\Roaming\\nltk_data...\n",
      "[nltk_data]   Package wordnet is already up-to-date!\n"
     ]
    },
    {
     "data": {
      "text/plain": "True"
     },
     "execution_count": 40,
     "metadata": {},
     "output_type": "execute_result"
    }
   ],
   "source": [
    "\n",
    "nltk.download('punkt')\n",
    "nltk.download('stopwords')\n",
    "nltk.download('wordnet')"
   ],
   "metadata": {
    "collapsed": false,
    "ExecuteTime": {
     "end_time": "2024-06-07T00:03:06.842759100Z",
     "start_time": "2024-06-07T00:03:06.739706700Z"
    }
   },
   "id": "2f6943bd7cba8980"
  },
  {
   "cell_type": "code",
   "execution_count": 41,
   "outputs": [],
   "source": [
    "stop_words = set(stopwords.words('arabic'))\n",
    "stemmer = SnowballStemmer('arabic')\n",
    "lemmatizer = WordNetLemmatizer()"
   ],
   "metadata": {
    "collapsed": false,
    "ExecuteTime": {
     "end_time": "2024-06-07T00:03:06.844755800Z",
     "start_time": "2024-06-07T00:03:06.767228400Z"
    }
   },
   "id": "121d708df0498b5b"
  },
  {
   "cell_type": "code",
   "execution_count": 42,
   "outputs": [
    {
     "name": "stdout",
     "output_type": "stream",
     "text": [
      "Requirement already satisfied: spacy in c:\\users\\dell pc\\pycharmprojects\\atelier1\\venv\\lib\\site-packages (3.7.5)\n",
      "Requirement already satisfied: spacy-legacy<3.1.0,>=3.0.11 in c:\\users\\dell pc\\pycharmprojects\\atelier1\\venv\\lib\\site-packages (from spacy) (3.0.12)\n",
      "Requirement already satisfied: spacy-loggers<2.0.0,>=1.0.0 in c:\\users\\dell pc\\pycharmprojects\\atelier1\\venv\\lib\\site-packages (from spacy) (1.0.5)\n",
      "Requirement already satisfied: murmurhash<1.1.0,>=0.28.0 in c:\\users\\dell pc\\pycharmprojects\\atelier1\\venv\\lib\\site-packages (from spacy) (1.0.10)\n",
      "Requirement already satisfied: cymem<2.1.0,>=2.0.2 in c:\\users\\dell pc\\pycharmprojects\\atelier1\\venv\\lib\\site-packages (from spacy) (2.0.8)\n",
      "Requirement already satisfied: preshed<3.1.0,>=3.0.2 in c:\\users\\dell pc\\pycharmprojects\\atelier1\\venv\\lib\\site-packages (from spacy) (3.0.9)\n",
      "Requirement already satisfied: thinc<8.3.0,>=8.2.2 in c:\\users\\dell pc\\pycharmprojects\\atelier1\\venv\\lib\\site-packages (from spacy) (8.2.4)\n",
      "Requirement already satisfied: wasabi<1.2.0,>=0.9.1 in c:\\users\\dell pc\\pycharmprojects\\atelier1\\venv\\lib\\site-packages (from spacy) (1.1.3)\n",
      "Requirement already satisfied: srsly<3.0.0,>=2.4.3 in c:\\users\\dell pc\\pycharmprojects\\atelier1\\venv\\lib\\site-packages (from spacy) (2.4.8)\n",
      "Requirement already satisfied: catalogue<2.1.0,>=2.0.6 in c:\\users\\dell pc\\pycharmprojects\\atelier1\\venv\\lib\\site-packages (from spacy) (2.0.10)\n",
      "Requirement already satisfied: weasel<0.5.0,>=0.1.0 in c:\\users\\dell pc\\pycharmprojects\\atelier1\\venv\\lib\\site-packages (from spacy) (0.4.1)\n",
      "Requirement already satisfied: typer<1.0.0,>=0.3.0 in c:\\users\\dell pc\\pycharmprojects\\atelier1\\venv\\lib\\site-packages (from spacy) (0.12.3)\n",
      "Requirement already satisfied: tqdm<5.0.0,>=4.38.0 in c:\\users\\dell pc\\pycharmprojects\\atelier1\\venv\\lib\\site-packages (from spacy) (4.66.4)\n",
      "Requirement already satisfied: requests<3.0.0,>=2.13.0 in c:\\users\\dell pc\\pycharmprojects\\atelier1\\venv\\lib\\site-packages (from spacy) (2.32.3)\n",
      "Requirement already satisfied: pydantic!=1.8,!=1.8.1,<3.0.0,>=1.7.4 in c:\\users\\dell pc\\pycharmprojects\\atelier1\\venv\\lib\\site-packages (from spacy) (2.7.3)\n",
      "Requirement already satisfied: jinja2 in c:\\users\\dell pc\\pycharmprojects\\atelier1\\venv\\lib\\site-packages (from spacy) (3.1.4)\n",
      "Requirement already satisfied: setuptools in c:\\users\\dell pc\\pycharmprojects\\atelier1\\venv\\lib\\site-packages (from spacy) (68.2.0)\n",
      "Requirement already satisfied: packaging>=20.0 in c:\\users\\dell pc\\pycharmprojects\\atelier1\\venv\\lib\\site-packages (from spacy) (24.0)\n",
      "Requirement already satisfied: langcodes<4.0.0,>=3.2.0 in c:\\users\\dell pc\\pycharmprojects\\atelier1\\venv\\lib\\site-packages (from spacy) (3.4.0)\n",
      "Requirement already satisfied: numpy>=1.19.0 in c:\\users\\dell pc\\pycharmprojects\\atelier1\\venv\\lib\\site-packages (from spacy) (1.26.4)\n",
      "Requirement already satisfied: language-data>=1.2 in c:\\users\\dell pc\\pycharmprojects\\atelier1\\venv\\lib\\site-packages (from langcodes<4.0.0,>=3.2.0->spacy) (1.2.0)\n",
      "Requirement already satisfied: annotated-types>=0.4.0 in c:\\users\\dell pc\\pycharmprojects\\atelier1\\venv\\lib\\site-packages (from pydantic!=1.8,!=1.8.1,<3.0.0,>=1.7.4->spacy) (0.7.0)\n",
      "Requirement already satisfied: pydantic-core==2.18.4 in c:\\users\\dell pc\\pycharmprojects\\atelier1\\venv\\lib\\site-packages (from pydantic!=1.8,!=1.8.1,<3.0.0,>=1.7.4->spacy) (2.18.4)\n",
      "Requirement already satisfied: typing-extensions>=4.6.1 in c:\\users\\dell pc\\pycharmprojects\\atelier1\\venv\\lib\\site-packages (from pydantic!=1.8,!=1.8.1,<3.0.0,>=1.7.4->spacy) (4.12.1)\n",
      "Requirement already satisfied: charset-normalizer<4,>=2 in c:\\users\\dell pc\\pycharmprojects\\atelier1\\venv\\lib\\site-packages (from requests<3.0.0,>=2.13.0->spacy) (3.3.2)\n",
      "Requirement already satisfied: idna<4,>=2.5 in c:\\users\\dell pc\\pycharmprojects\\atelier1\\venv\\lib\\site-packages (from requests<3.0.0,>=2.13.0->spacy) (3.7)\n",
      "Requirement already satisfied: urllib3<3,>=1.21.1 in c:\\users\\dell pc\\pycharmprojects\\atelier1\\venv\\lib\\site-packages (from requests<3.0.0,>=2.13.0->spacy) (2.2.1)\n",
      "Requirement already satisfied: certifi>=2017.4.17 in c:\\users\\dell pc\\pycharmprojects\\atelier1\\venv\\lib\\site-packages (from requests<3.0.0,>=2.13.0->spacy) (2024.6.2)\n",
      "Requirement already satisfied: blis<0.8.0,>=0.7.8 in c:\\users\\dell pc\\pycharmprojects\\atelier1\\venv\\lib\\site-packages (from thinc<8.3.0,>=8.2.2->spacy) (0.7.11)\n",
      "Requirement already satisfied: confection<1.0.0,>=0.0.1 in c:\\users\\dell pc\\pycharmprojects\\atelier1\\venv\\lib\\site-packages (from thinc<8.3.0,>=8.2.2->spacy) (0.1.5)\n",
      "Requirement already satisfied: colorama in c:\\users\\dell pc\\pycharmprojects\\atelier1\\venv\\lib\\site-packages (from tqdm<5.0.0,>=4.38.0->spacy) (0.4.6)\n",
      "Requirement already satisfied: click>=8.0.0 in c:\\users\\dell pc\\pycharmprojects\\atelier1\\venv\\lib\\site-packages (from typer<1.0.0,>=0.3.0->spacy) (8.1.7)\n",
      "Requirement already satisfied: shellingham>=1.3.0 in c:\\users\\dell pc\\pycharmprojects\\atelier1\\venv\\lib\\site-packages (from typer<1.0.0,>=0.3.0->spacy) (1.5.4)\n",
      "Requirement already satisfied: rich>=10.11.0 in c:\\users\\dell pc\\pycharmprojects\\atelier1\\venv\\lib\\site-packages (from typer<1.0.0,>=0.3.0->spacy) (13.7.1)\n",
      "Requirement already satisfied: cloudpathlib<1.0.0,>=0.7.0 in c:\\users\\dell pc\\pycharmprojects\\atelier1\\venv\\lib\\site-packages (from weasel<0.5.0,>=0.1.0->spacy) (0.18.1)\n",
      "Requirement already satisfied: smart-open<8.0.0,>=5.2.1 in c:\\users\\dell pc\\pycharmprojects\\atelier1\\venv\\lib\\site-packages (from weasel<0.5.0,>=0.1.0->spacy) (7.0.4)\n",
      "Requirement already satisfied: MarkupSafe>=2.0 in c:\\users\\dell pc\\pycharmprojects\\atelier1\\venv\\lib\\site-packages (from jinja2->spacy) (2.1.5)\n",
      "Requirement already satisfied: marisa-trie>=0.7.7 in c:\\users\\dell pc\\pycharmprojects\\atelier1\\venv\\lib\\site-packages (from language-data>=1.2->langcodes<4.0.0,>=3.2.0->spacy) (1.2.0)\n",
      "Requirement already satisfied: markdown-it-py>=2.2.0 in c:\\users\\dell pc\\pycharmprojects\\atelier1\\venv\\lib\\site-packages (from rich>=10.11.0->typer<1.0.0,>=0.3.0->spacy) (3.0.0)\n",
      "Requirement already satisfied: pygments<3.0.0,>=2.13.0 in c:\\users\\dell pc\\pycharmprojects\\atelier1\\venv\\lib\\site-packages (from rich>=10.11.0->typer<1.0.0,>=0.3.0->spacy) (2.18.0)\n",
      "Requirement already satisfied: wrapt in c:\\users\\dell pc\\pycharmprojects\\atelier1\\venv\\lib\\site-packages (from smart-open<8.0.0,>=5.2.1->weasel<0.5.0,>=0.1.0->spacy) (1.16.0)\n",
      "Requirement already satisfied: mdurl~=0.1 in c:\\users\\dell pc\\pycharmprojects\\atelier1\\venv\\lib\\site-packages (from markdown-it-py>=2.2.0->rich>=10.11.0->typer<1.0.0,>=0.3.0->spacy) (0.1.2)\n",
      "Collecting xx-ent-wiki-sm==3.7.0\n",
      "  Downloading https://github.com/explosion/spacy-models/releases/download/xx_ent_wiki_sm-3.7.0/xx_ent_wiki_sm-3.7.0-py3-none-any.whl (11.1 MB)\n",
      "     ---------------------------------------- 0.0/11.1 MB ? eta -:--:--\n",
      "     ---------------------------------------- 0.1/11.1 MB 2.0 MB/s eta 0:00:06\n",
      "      --------------------------------------- 0.3/11.1 MB 3.4 MB/s eta 0:00:04\n",
      "     - -------------------------------------- 0.5/11.1 MB 4.3 MB/s eta 0:00:03\n",
      "     --- ------------------------------------ 0.9/11.1 MB 5.1 MB/s eta 0:00:03\n",
      "     --- ------------------------------------ 0.9/11.1 MB 4.5 MB/s eta 0:00:03\n",
      "     ---- ----------------------------------- 1.2/11.1 MB 4.6 MB/s eta 0:00:03\n",
      "     ------ --------------------------------- 1.7/11.1 MB 5.7 MB/s eta 0:00:02\n",
      "     ------- -------------------------------- 2.2/11.1 MB 5.8 MB/s eta 0:00:02\n",
      "     -------- ------------------------------- 2.5/11.1 MB 6.1 MB/s eta 0:00:02\n",
      "     --------- ------------------------------ 2.8/11.1 MB 5.9 MB/s eta 0:00:02\n",
      "     ---------- ----------------------------- 3.0/11.1 MB 5.9 MB/s eta 0:00:02\n",
      "     ----------- ---------------------------- 3.3/11.1 MB 5.8 MB/s eta 0:00:02\n",
      "     ------------ --------------------------- 3.6/11.1 MB 6.0 MB/s eta 0:00:02\n",
      "     ------------- -------------------------- 3.9/11.1 MB 5.9 MB/s eta 0:00:02\n",
      "     -------------- ------------------------- 4.1/11.1 MB 5.9 MB/s eta 0:00:02\n",
      "     ---------------- ----------------------- 4.5/11.1 MB 5.9 MB/s eta 0:00:02\n",
      "     ----------------- ---------------------- 4.8/11.1 MB 6.0 MB/s eta 0:00:02\n",
      "     ------------------ --------------------- 5.0/11.1 MB 6.0 MB/s eta 0:00:02\n",
      "     ------------------ --------------------- 5.2/11.1 MB 6.0 MB/s eta 0:00:01\n",
      "     -------------------- ------------------- 5.6/11.1 MB 6.0 MB/s eta 0:00:01\n",
      "     -------------------- ------------------- 5.8/11.1 MB 6.0 MB/s eta 0:00:01\n",
      "     --------------------- ------------------ 6.1/11.1 MB 6.1 MB/s eta 0:00:01\n",
      "     ---------------------- ----------------- 6.3/11.1 MB 6.1 MB/s eta 0:00:01\n",
      "     ----------------------- ---------------- 6.6/11.1 MB 6.1 MB/s eta 0:00:01\n",
      "     ------------------------ --------------- 6.9/11.1 MB 6.1 MB/s eta 0:00:01\n",
      "     ------------------------- -------------- 7.1/11.1 MB 6.1 MB/s eta 0:00:01\n",
      "     -------------------------- ------------- 7.4/11.1 MB 6.1 MB/s eta 0:00:01\n",
      "     --------------------------- ------------ 7.6/11.1 MB 6.2 MB/s eta 0:00:01\n",
      "     ---------------------------- ----------- 7.9/11.1 MB 6.2 MB/s eta 0:00:01\n",
      "     ----------------------------- ---------- 8.1/11.1 MB 6.2 MB/s eta 0:00:01\n",
      "     ------------------------------ --------- 8.4/11.1 MB 6.2 MB/s eta 0:00:01\n",
      "     ------------------------------- -------- 8.6/11.1 MB 6.2 MB/s eta 0:00:01\n",
      "     -------------------------------- ------- 8.9/11.1 MB 6.3 MB/s eta 0:00:01\n",
      "     --------------------------------- ------ 9.2/11.1 MB 6.2 MB/s eta 0:00:01\n",
      "     ---------------------------------- ----- 9.5/11.1 MB 6.3 MB/s eta 0:00:01\n",
      "     ---------------------------------- ----- 9.7/11.1 MB 6.3 MB/s eta 0:00:01\n",
      "     ----------------------------------- ---- 9.9/11.1 MB 6.3 MB/s eta 0:00:01\n",
      "     ------------------------------------ --- 10.2/11.1 MB 6.3 MB/s eta 0:00:01\n",
      "     ------------------------------------- -- 10.5/11.1 MB 6.5 MB/s eta 0:00:01\n",
      "     -------------------------------------- - 10.8/11.1 MB 6.4 MB/s eta 0:00:01\n",
      "     ---------------------------------------  11.0/11.1 MB 6.3 MB/s eta 0:00:01\n",
      "     ---------------------------------------  11.1/11.1 MB 6.2 MB/s eta 0:00:01\n",
      "     ---------------------------------------  11.1/11.1 MB 6.2 MB/s eta 0:00:01\n",
      "     ---------------------------------------  11.1/11.1 MB 6.2 MB/s eta 0:00:01\n",
      "     ---------------------------------------  11.1/11.1 MB 6.2 MB/s eta 0:00:01\n",
      "     ---------------------------------------- 11.1/11.1 MB 5.6 MB/s eta 0:00:00\n",
      "Requirement already satisfied: spacy<3.8.0,>=3.7.0 in c:\\users\\dell pc\\pycharmprojects\\atelier1\\venv\\lib\\site-packages (from xx-ent-wiki-sm==3.7.0) (3.7.5)\n",
      "Requirement already satisfied: spacy-legacy<3.1.0,>=3.0.11 in c:\\users\\dell pc\\pycharmprojects\\atelier1\\venv\\lib\\site-packages (from spacy<3.8.0,>=3.7.0->xx-ent-wiki-sm==3.7.0) (3.0.12)\n",
      "Requirement already satisfied: spacy-loggers<2.0.0,>=1.0.0 in c:\\users\\dell pc\\pycharmprojects\\atelier1\\venv\\lib\\site-packages (from spacy<3.8.0,>=3.7.0->xx-ent-wiki-sm==3.7.0) (1.0.5)\n",
      "Requirement already satisfied: murmurhash<1.1.0,>=0.28.0 in c:\\users\\dell pc\\pycharmprojects\\atelier1\\venv\\lib\\site-packages (from spacy<3.8.0,>=3.7.0->xx-ent-wiki-sm==3.7.0) (1.0.10)\n",
      "Requirement already satisfied: cymem<2.1.0,>=2.0.2 in c:\\users\\dell pc\\pycharmprojects\\atelier1\\venv\\lib\\site-packages (from spacy<3.8.0,>=3.7.0->xx-ent-wiki-sm==3.7.0) (2.0.8)\n",
      "Requirement already satisfied: preshed<3.1.0,>=3.0.2 in c:\\users\\dell pc\\pycharmprojects\\atelier1\\venv\\lib\\site-packages (from spacy<3.8.0,>=3.7.0->xx-ent-wiki-sm==3.7.0) (3.0.9)\n",
      "Requirement already satisfied: thinc<8.3.0,>=8.2.2 in c:\\users\\dell pc\\pycharmprojects\\atelier1\\venv\\lib\\site-packages (from spacy<3.8.0,>=3.7.0->xx-ent-wiki-sm==3.7.0) (8.2.4)\n",
      "Requirement already satisfied: wasabi<1.2.0,>=0.9.1 in c:\\users\\dell pc\\pycharmprojects\\atelier1\\venv\\lib\\site-packages (from spacy<3.8.0,>=3.7.0->xx-ent-wiki-sm==3.7.0) (1.1.3)\n",
      "Requirement already satisfied: srsly<3.0.0,>=2.4.3 in c:\\users\\dell pc\\pycharmprojects\\atelier1\\venv\\lib\\site-packages (from spacy<3.8.0,>=3.7.0->xx-ent-wiki-sm==3.7.0) (2.4.8)\n",
      "Requirement already satisfied: catalogue<2.1.0,>=2.0.6 in c:\\users\\dell pc\\pycharmprojects\\atelier1\\venv\\lib\\site-packages (from spacy<3.8.0,>=3.7.0->xx-ent-wiki-sm==3.7.0) (2.0.10)\n",
      "Requirement already satisfied: weasel<0.5.0,>=0.1.0 in c:\\users\\dell pc\\pycharmprojects\\atelier1\\venv\\lib\\site-packages (from spacy<3.8.0,>=3.7.0->xx-ent-wiki-sm==3.7.0) (0.4.1)\n",
      "Requirement already satisfied: typer<1.0.0,>=0.3.0 in c:\\users\\dell pc\\pycharmprojects\\atelier1\\venv\\lib\\site-packages (from spacy<3.8.0,>=3.7.0->xx-ent-wiki-sm==3.7.0) (0.12.3)\n",
      "Requirement already satisfied: tqdm<5.0.0,>=4.38.0 in c:\\users\\dell pc\\pycharmprojects\\atelier1\\venv\\lib\\site-packages (from spacy<3.8.0,>=3.7.0->xx-ent-wiki-sm==3.7.0) (4.66.4)\n",
      "Requirement already satisfied: requests<3.0.0,>=2.13.0 in c:\\users\\dell pc\\pycharmprojects\\atelier1\\venv\\lib\\site-packages (from spacy<3.8.0,>=3.7.0->xx-ent-wiki-sm==3.7.0) (2.32.3)\n",
      "Requirement already satisfied: pydantic!=1.8,!=1.8.1,<3.0.0,>=1.7.4 in c:\\users\\dell pc\\pycharmprojects\\atelier1\\venv\\lib\\site-packages (from spacy<3.8.0,>=3.7.0->xx-ent-wiki-sm==3.7.0) (2.7.3)\n",
      "Requirement already satisfied: jinja2 in c:\\users\\dell pc\\pycharmprojects\\atelier1\\venv\\lib\\site-packages (from spacy<3.8.0,>=3.7.0->xx-ent-wiki-sm==3.7.0) (3.1.4)\n",
      "Requirement already satisfied: setuptools in c:\\users\\dell pc\\pycharmprojects\\atelier1\\venv\\lib\\site-packages (from spacy<3.8.0,>=3.7.0->xx-ent-wiki-sm==3.7.0) (68.2.0)\n",
      "Requirement already satisfied: packaging>=20.0 in c:\\users\\dell pc\\pycharmprojects\\atelier1\\venv\\lib\\site-packages (from spacy<3.8.0,>=3.7.0->xx-ent-wiki-sm==3.7.0) (24.0)\n",
      "Requirement already satisfied: langcodes<4.0.0,>=3.2.0 in c:\\users\\dell pc\\pycharmprojects\\atelier1\\venv\\lib\\site-packages (from spacy<3.8.0,>=3.7.0->xx-ent-wiki-sm==3.7.0) (3.4.0)\n",
      "Requirement already satisfied: numpy>=1.19.0 in c:\\users\\dell pc\\pycharmprojects\\atelier1\\venv\\lib\\site-packages (from spacy<3.8.0,>=3.7.0->xx-ent-wiki-sm==3.7.0) (1.26.4)\n",
      "Requirement already satisfied: language-data>=1.2 in c:\\users\\dell pc\\pycharmprojects\\atelier1\\venv\\lib\\site-packages (from langcodes<4.0.0,>=3.2.0->spacy<3.8.0,>=3.7.0->xx-ent-wiki-sm==3.7.0) (1.2.0)\n",
      "Requirement already satisfied: annotated-types>=0.4.0 in c:\\users\\dell pc\\pycharmprojects\\atelier1\\venv\\lib\\site-packages (from pydantic!=1.8,!=1.8.1,<3.0.0,>=1.7.4->spacy<3.8.0,>=3.7.0->xx-ent-wiki-sm==3.7.0) (0.7.0)\n",
      "Requirement already satisfied: pydantic-core==2.18.4 in c:\\users\\dell pc\\pycharmprojects\\atelier1\\venv\\lib\\site-packages (from pydantic!=1.8,!=1.8.1,<3.0.0,>=1.7.4->spacy<3.8.0,>=3.7.0->xx-ent-wiki-sm==3.7.0) (2.18.4)\n",
      "Requirement already satisfied: typing-extensions>=4.6.1 in c:\\users\\dell pc\\pycharmprojects\\atelier1\\venv\\lib\\site-packages (from pydantic!=1.8,!=1.8.1,<3.0.0,>=1.7.4->spacy<3.8.0,>=3.7.0->xx-ent-wiki-sm==3.7.0) (4.12.1)\n",
      "Requirement already satisfied: charset-normalizer<4,>=2 in c:\\users\\dell pc\\pycharmprojects\\atelier1\\venv\\lib\\site-packages (from requests<3.0.0,>=2.13.0->spacy<3.8.0,>=3.7.0->xx-ent-wiki-sm==3.7.0) (3.3.2)\n",
      "Requirement already satisfied: idna<4,>=2.5 in c:\\users\\dell pc\\pycharmprojects\\atelier1\\venv\\lib\\site-packages (from requests<3.0.0,>=2.13.0->spacy<3.8.0,>=3.7.0->xx-ent-wiki-sm==3.7.0) (3.7)\n",
      "Requirement already satisfied: urllib3<3,>=1.21.1 in c:\\users\\dell pc\\pycharmprojects\\atelier1\\venv\\lib\\site-packages (from requests<3.0.0,>=2.13.0->spacy<3.8.0,>=3.7.0->xx-ent-wiki-sm==3.7.0) (2.2.1)\n",
      "Requirement already satisfied: certifi>=2017.4.17 in c:\\users\\dell pc\\pycharmprojects\\atelier1\\venv\\lib\\site-packages (from requests<3.0.0,>=2.13.0->spacy<3.8.0,>=3.7.0->xx-ent-wiki-sm==3.7.0) (2024.6.2)\n",
      "Requirement already satisfied: blis<0.8.0,>=0.7.8 in c:\\users\\dell pc\\pycharmprojects\\atelier1\\venv\\lib\\site-packages (from thinc<8.3.0,>=8.2.2->spacy<3.8.0,>=3.7.0->xx-ent-wiki-sm==3.7.0) (0.7.11)\n",
      "Requirement already satisfied: confection<1.0.0,>=0.0.1 in c:\\users\\dell pc\\pycharmprojects\\atelier1\\venv\\lib\\site-packages (from thinc<8.3.0,>=8.2.2->spacy<3.8.0,>=3.7.0->xx-ent-wiki-sm==3.7.0) (0.1.5)\n",
      "Requirement already satisfied: colorama in c:\\users\\dell pc\\pycharmprojects\\atelier1\\venv\\lib\\site-packages (from tqdm<5.0.0,>=4.38.0->spacy<3.8.0,>=3.7.0->xx-ent-wiki-sm==3.7.0) (0.4.6)\n",
      "Requirement already satisfied: click>=8.0.0 in c:\\users\\dell pc\\pycharmprojects\\atelier1\\venv\\lib\\site-packages (from typer<1.0.0,>=0.3.0->spacy<3.8.0,>=3.7.0->xx-ent-wiki-sm==3.7.0) (8.1.7)\n",
      "Requirement already satisfied: shellingham>=1.3.0 in c:\\users\\dell pc\\pycharmprojects\\atelier1\\venv\\lib\\site-packages (from typer<1.0.0,>=0.3.0->spacy<3.8.0,>=3.7.0->xx-ent-wiki-sm==3.7.0) (1.5.4)\n",
      "Requirement already satisfied: rich>=10.11.0 in c:\\users\\dell pc\\pycharmprojects\\atelier1\\venv\\lib\\site-packages (from typer<1.0.0,>=0.3.0->spacy<3.8.0,>=3.7.0->xx-ent-wiki-sm==3.7.0) (13.7.1)\n",
      "Requirement already satisfied: cloudpathlib<1.0.0,>=0.7.0 in c:\\users\\dell pc\\pycharmprojects\\atelier1\\venv\\lib\\site-packages (from weasel<0.5.0,>=0.1.0->spacy<3.8.0,>=3.7.0->xx-ent-wiki-sm==3.7.0) (0.18.1)\n",
      "Requirement already satisfied: smart-open<8.0.0,>=5.2.1 in c:\\users\\dell pc\\pycharmprojects\\atelier1\\venv\\lib\\site-packages (from weasel<0.5.0,>=0.1.0->spacy<3.8.0,>=3.7.0->xx-ent-wiki-sm==3.7.0) (7.0.4)\n",
      "Requirement already satisfied: MarkupSafe>=2.0 in c:\\users\\dell pc\\pycharmprojects\\atelier1\\venv\\lib\\site-packages (from jinja2->spacy<3.8.0,>=3.7.0->xx-ent-wiki-sm==3.7.0) (2.1.5)\n",
      "Requirement already satisfied: marisa-trie>=0.7.7 in c:\\users\\dell pc\\pycharmprojects\\atelier1\\venv\\lib\\site-packages (from language-data>=1.2->langcodes<4.0.0,>=3.2.0->spacy<3.8.0,>=3.7.0->xx-ent-wiki-sm==3.7.0) (1.2.0)\n",
      "Requirement already satisfied: markdown-it-py>=2.2.0 in c:\\users\\dell pc\\pycharmprojects\\atelier1\\venv\\lib\\site-packages (from rich>=10.11.0->typer<1.0.0,>=0.3.0->spacy<3.8.0,>=3.7.0->xx-ent-wiki-sm==3.7.0) (3.0.0)\n",
      "Requirement already satisfied: pygments<3.0.0,>=2.13.0 in c:\\users\\dell pc\\pycharmprojects\\atelier1\\venv\\lib\\site-packages (from rich>=10.11.0->typer<1.0.0,>=0.3.0->spacy<3.8.0,>=3.7.0->xx-ent-wiki-sm==3.7.0) (2.18.0)\n",
      "Requirement already satisfied: wrapt in c:\\users\\dell pc\\pycharmprojects\\atelier1\\venv\\lib\\site-packages (from smart-open<8.0.0,>=5.2.1->weasel<0.5.0,>=0.1.0->spacy<3.8.0,>=3.7.0->xx-ent-wiki-sm==3.7.0) (1.16.0)\n",
      "Requirement already satisfied: mdurl~=0.1 in c:\\users\\dell pc\\pycharmprojects\\atelier1\\venv\\lib\\site-packages (from markdown-it-py>=2.2.0->rich>=10.11.0->typer<1.0.0,>=0.3.0->spacy<3.8.0,>=3.7.0->xx-ent-wiki-sm==3.7.0) (0.1.2)\n",
      "\u001B[38;5;2m[+] Download and installation successful\u001B[0m\n",
      "You can now load the package via spacy.load('xx_ent_wiki_sm')\n"
     ]
    }
   ],
   "source": [
    "!pip install spacy\n",
    "!python -m spacy download xx_ent_wiki_sm "
   ],
   "metadata": {
    "collapsed": false,
    "ExecuteTime": {
     "end_time": "2024-06-07T00:03:23.107549200Z",
     "start_time": "2024-06-07T00:03:06.784753400Z"
    }
   },
   "id": "ebb8efa09ae7110f"
  },
  {
   "cell_type": "markdown",
   "source": [
    "xx_ent_wiki_sm is a multilingual model for NER.\n",
    "The xx_ent_wiki_sm model is a small, general-purpose model that is trained on Wikipedia and is suitable for a wide range of NLP tasks."
   ],
   "metadata": {
    "collapsed": false
   },
   "id": "64aea86624d4d898"
  },
  {
   "cell_type": "code",
   "execution_count": 43,
   "outputs": [],
   "source": [
    "from spacy.util import minibatch\n",
    "nlp = spacy.load('xx_ent_wiki_sm')"
   ],
   "metadata": {
    "collapsed": false,
    "ExecuteTime": {
     "end_time": "2024-06-07T00:03:26.722834100Z",
     "start_time": "2024-06-07T00:03:23.096553300Z"
    }
   },
   "id": "aa1353caa1e49beb"
  },
  {
   "cell_type": "code",
   "execution_count": 44,
   "outputs": [],
   "source": [
    "# Text Cleaning, Tokenization, Stop Words Removal\n",
    "processed_texts = []\n",
    "for text in titles:\n",
    "        tokens = word_tokenize(text)\n",
    "        tokens = [word for word in tokens if word.isalnum()]  # Remove non-alphanumeric characters\n",
    "        tokens = [word for word in tokens if word not in stop_words]  # Remove stop words\n",
    "        \n",
    "        stems = [stemmer.stem(token) for token in tokens]\n",
    "        lemmas = [lemmatizer.lemmatize(token) for token in tokens]\n",
    "        \n",
    "        doc = nlp(text)\n",
    "        pos_tags = [(token.text, token.pos_) for token in doc]\n",
    "        entities = [(ent.text, ent.label_) for ent in doc.ents]\n",
    "        \n",
    "        processed_texts.append({\n",
    "            'original': text,\n",
    "            'tokens': tokens,\n",
    "            'stems': stems,\n",
    "            'lemmas': lemmas,\n",
    "            'pos_tags': pos_tags,\n",
    "            'entities': entities\n",
    "        })"
   ],
   "metadata": {
    "collapsed": false,
    "ExecuteTime": {
     "end_time": "2024-06-07T00:03:26.977547500Z",
     "start_time": "2024-06-07T00:03:26.724840300Z"
    }
   },
   "id": "383297fd87144172"
  },
  {
   "cell_type": "code",
   "execution_count": 45,
   "outputs": [
    {
     "name": "stdout",
     "output_type": "stream",
     "text": [
      "Cleaned Titles: [{'original': 'مهرجان الجزيرة بلقان للأفلام الوثائقية', 'tokens': ['مهرجان', 'الجزيرة', 'بلقان', 'للأفلام', 'الوثائقية'], 'stems': ['مهرج', 'جزير', 'لقا', 'افلام', 'وثايق'], 'lemmas': ['مهرجان', 'الجزيرة', 'بلقان', 'للأفلام', 'الوثائقية'], 'pos_tags': [('مهرجان', ''), ('الجزيرة', ''), ('بلقان', ''), ('للأفلام', ''), ('الوثائقية', '')], 'entities': [('مهرجان', 'PER')]}, {'original': 'منتدى الجزيرة الخامس عشر', 'tokens': ['منتدى', 'الجزيرة', 'الخامس'], 'stems': ['منتدى', 'جزير', 'خامس'], 'lemmas': ['منتدى', 'الجزيرة', 'الخامس'], 'pos_tags': [('منتدى', ''), ('الجزيرة', ''), ('الخامس', ''), ('عشر', '')], 'entities': []}, {'original': 'منتدى كليات الصحافة في العالم العربي', 'tokens': ['منتدى', 'كليات', 'الصحافة', 'العالم', 'العربي'], 'stems': ['منتدى', 'كل', 'صحاف', 'عالم', 'عرب'], 'lemmas': ['منتدى', 'كليات', 'الصحافة', 'العالم', 'العربي'], 'pos_tags': [('منتدى', ''), ('كليات', ''), ('الصحافة', ''), ('في', ''), ('العالم', ''), ('العربي', '')], 'entities': []}, {'original': 'مهرجان الجزيرة بلقان السادس للأفلام الوثائقية', 'tokens': ['مهرجان', 'الجزيرة', 'بلقان', 'السادس', 'للأفلام', 'الوثائقية'], 'stems': ['مهرج', 'جزير', 'لقا', 'سادس', 'افلام', 'وثايق'], 'lemmas': ['مهرجان', 'الجزيرة', 'بلقان', 'السادس', 'للأفلام', 'الوثائقية'], 'pos_tags': [('مهرجان', ''), ('الجزيرة', ''), ('بلقان', ''), ('السادس', ''), ('للأفلام', ''), ('الوثائقية', '')], 'entities': [('مهرجان', 'PER')]}, {'original': 'الجزيرة للدراسات يبحث جدوى انخراط فلسطينيّي الداخل في مؤسسة الحكم الإسرائيلية', 'tokens': ['الجزيرة', 'للدراسات', 'يبحث', 'جدوى', 'انخراط', 'الداخل', 'مؤسسة', 'الحكم', 'الإسرائيلية'], 'stems': ['جزير', 'دراس', 'يبحث', 'جدوى', 'انخراط', 'داخل', 'موسس', 'حكم', 'اسراييل'], 'lemmas': ['الجزيرة', 'للدراسات', 'يبحث', 'جدوى', 'انخراط', 'الداخل', 'مؤسسة', 'الحكم', 'الإسرائيلية'], 'pos_tags': [('الجزيرة', ''), ('للدراسات', ''), ('يبحث', ''), ('جدوى', ''), ('انخراط', ''), ('فلسطينيّي', ''), ('الداخل', ''), ('في', ''), ('مؤسسة', ''), ('الحكم', ''), ('الإسرائيلية', '')], 'entities': [('للدراسات يبحث', 'PER')]}, {'original': 'معرض اكتشف الجزيرة', 'tokens': ['معرض', 'اكتشف', 'الجزيرة'], 'stems': ['معرض', 'اكتشف', 'جزير'], 'lemmas': ['معرض', 'اكتشف', 'الجزيرة'], 'pos_tags': [('معرض', ''), ('اكتشف', ''), ('الجزيرة', '')], 'entities': []}, {'original': 'الجزيرة تحتفل بمرور 25 عاماً على انطلاقتها', 'tokens': ['الجزيرة', 'تحتفل', 'بمرور', '25', 'انطلاقتها'], 'stems': ['جزير', 'تحتفل', 'مرور', '25', 'انطلاق'], 'lemmas': ['الجزيرة', 'تحتفل', 'بمرور', '25', 'انطلاقتها'], 'pos_tags': [('الجزيرة', ''), ('تحتفل', ''), ('بمرور', ''), ('25', ''), ('عاماً', ''), ('على', ''), ('انطلاقتها', '')], 'entities': []}, {'original': 'منتدى الجزيرة 2019: الخليج بين الأزمة وتراجع التأثير الاستراتيجي', 'tokens': ['منتدى', 'الجزيرة', '2019', 'الخليج', 'الأزمة', 'وتراجع', 'التأثير', 'الاستراتيجي'], 'stems': ['منتدى', 'جزير', '2019', 'خليج', 'ازم', 'تراجع', 'تاثير', 'استراتيج'], 'lemmas': ['منتدى', 'الجزيرة', '2019', 'الخليج', 'الأزمة', 'وتراجع', 'التأثير', 'الاستراتيجي'], 'pos_tags': [('منتدى', ''), ('الجزيرة', ''), ('2019', ''), (':', ''), ('الخليج', ''), ('بين', ''), ('الأزمة', ''), ('وتراجع', ''), ('التأثير', ''), ('الاستراتيجي', '')], 'entities': []}, {'original': 'أربعون عاماً على الثورة الإسلامية في إيران', 'tokens': ['أربعون', 'الثورة', 'الإسلامية', 'إيران'], 'stems': ['اربع', 'ثور', 'اسلام', 'ايرا'], 'lemmas': ['أربعون', 'الثورة', 'الإسلامية', 'إيران'], 'pos_tags': [('أربعون', ''), ('عاماً', ''), ('على', ''), ('الثورة', ''), ('الإسلامية', ''), ('في', ''), ('إيران', '')], 'entities': []}, {'original': 'الاحتفال بالذكرى الثانية والعشرين لانطلاق شبكة الجزيرة الإعلامية', 'tokens': ['الاحتفال', 'بالذكرى', 'الثانية', 'والعشرين', 'لانطلاق', 'شبكة', 'الجزيرة', 'الإعلامية'], 'stems': ['احتفال', 'ذكرى', 'ثان', 'عشر', 'انطلاق', 'شبك', 'جزير', 'اعلام'], 'lemmas': ['الاحتفال', 'بالذكرى', 'الثانية', 'والعشرين', 'لانطلاق', 'شبكة', 'الجزيرة', 'الإعلامية'], 'pos_tags': [('الاحتفال', ''), ('بالذكرى', ''), ('الثانية', ''), ('والعشرين', ''), ('لانطلاق', ''), ('شبكة', ''), ('الجزيرة', ''), ('الإعلامية', '')], 'entities': []}, {'original': 'معهد الجزيرة ينظم منتدى للإعلام الرقمي بإسطنبول', 'tokens': ['معهد', 'الجزيرة', 'ينظم', 'منتدى', 'للإعلام', 'الرقمي', 'بإسطنبول'], 'stems': ['معهد', 'جزير', 'ينظم', 'منتدى', 'اعلام', 'رقم', 'اسطنبول'], 'lemmas': ['معهد', 'الجزيرة', 'ينظم', 'منتدى', 'للإعلام', 'الرقمي', 'بإسطنبول'], 'pos_tags': [('معهد', ''), ('الجزيرة', ''), ('ينظم', ''), ('منتدى', ''), ('للإعلام', ''), ('الرقمي', ''), ('بإسطنبول', '')], 'entities': [('معهد', 'LOC')]}, {'original': 'وقفة تضامنية مع الصحفي جمال خاشقجي', 'tokens': ['وقفة', 'تضامنية', 'الصحفي', 'جمال', 'خاشقجي'], 'stems': ['وقف', 'تضامن', 'صحف', 'جمال', 'خاشقج'], 'lemmas': ['وقفة', 'تضامنية', 'الصحفي', 'جمال', 'خاشقجي'], 'pos_tags': [('وقفة', ''), ('تضامنية', ''), ('مع', ''), ('الصحفي', ''), ('جمال', ''), ('خاشقجي', '')], 'entities': []}, {'original': 'نادي الصحافة القومي بواشنطن يستضيف الجزيرة', 'tokens': ['نادي', 'الصحافة', 'القومي', 'بواشنطن', 'يستضيف', 'الجزيرة'], 'stems': ['ناد', 'صحاف', 'قوم', 'واشنط', 'يستضيف', 'جزير'], 'lemmas': ['نادي', 'الصحافة', 'القومي', 'بواشنطن', 'يستضيف', 'الجزيرة'], 'pos_tags': [('نادي', ''), ('الصحافة', ''), ('القومي', ''), ('بواشنطن', ''), ('يستضيف', ''), ('الجزيرة', '')], 'entities': []}, {'original': 'اختتام مهرجان الجزيرة بلقان للأفلام الوثائقية بسراييفو', 'tokens': ['اختتام', 'مهرجان', 'الجزيرة', 'بلقان', 'للأفلام', 'الوثائقية', 'بسراييفو'], 'stems': ['اختتام', 'مهرج', 'جزير', 'لقا', 'افلام', 'وثايق', 'سراييف'], 'lemmas': ['اختتام', 'مهرجان', 'الجزيرة', 'بلقان', 'للأفلام', 'الوثائقية', 'بسراييفو'], 'pos_tags': [('اختتام', ''), ('مهرجان', ''), ('الجزيرة', ''), ('بلقان', ''), ('للأفلام', ''), ('الوثائقية', ''), ('بسراييفو', '')], 'entities': []}]\n"
     ]
    }
   ],
   "source": [
    "print(\"Cleaned Titles:\", processed_texts)"
   ],
   "metadata": {
    "collapsed": false,
    "ExecuteTime": {
     "end_time": "2024-06-07T00:03:26.996850Z",
     "start_time": "2024-06-07T00:03:26.980550200Z"
    }
   },
   "id": "949caf1e50cea79e"
  },
  {
   "cell_type": "code",
   "execution_count": 46,
   "outputs": [
    {
     "name": "stdout",
     "output_type": "stream",
     "text": [
      "Processed Data: {'original': 'مهرجان الجزيرة بلقان للأفلام الوثائقية', 'tokens': ['مهرجان', 'الجزيرة', 'بلقان', 'للأفلام', 'الوثائقية'], 'stems': ['مهرج', 'جزير', 'لقا', 'افلام', 'وثايق'], 'lemmas': ['مهرجان', 'الجزيرة', 'بلقان', 'للأفلام', 'الوثائقية'], 'pos_tags': [('مهرجان', ''), ('الجزيرة', ''), ('بلقان', ''), ('للأفلام', ''), ('الوثائقية', '')], 'entities': [('مهرجان', 'PER')]}\n",
      "Processed Data: {'original': 'منتدى الجزيرة الخامس عشر', 'tokens': ['منتدى', 'الجزيرة', 'الخامس'], 'stems': ['منتدى', 'جزير', 'خامس'], 'lemmas': ['منتدى', 'الجزيرة', 'الخامس'], 'pos_tags': [('منتدى', ''), ('الجزيرة', ''), ('الخامس', ''), ('عشر', '')], 'entities': []}\n",
      "Processed Data: {'original': 'منتدى كليات الصحافة في العالم العربي', 'tokens': ['منتدى', 'كليات', 'الصحافة', 'العالم', 'العربي'], 'stems': ['منتدى', 'كل', 'صحاف', 'عالم', 'عرب'], 'lemmas': ['منتدى', 'كليات', 'الصحافة', 'العالم', 'العربي'], 'pos_tags': [('منتدى', ''), ('كليات', ''), ('الصحافة', ''), ('في', ''), ('العالم', ''), ('العربي', '')], 'entities': []}\n",
      "Processed Data: {'original': 'مهرجان الجزيرة بلقان السادس للأفلام الوثائقية', 'tokens': ['مهرجان', 'الجزيرة', 'بلقان', 'السادس', 'للأفلام', 'الوثائقية'], 'stems': ['مهرج', 'جزير', 'لقا', 'سادس', 'افلام', 'وثايق'], 'lemmas': ['مهرجان', 'الجزيرة', 'بلقان', 'السادس', 'للأفلام', 'الوثائقية'], 'pos_tags': [('مهرجان', ''), ('الجزيرة', ''), ('بلقان', ''), ('السادس', ''), ('للأفلام', ''), ('الوثائقية', '')], 'entities': [('مهرجان', 'PER')]}\n",
      "Processed Data: {'original': 'الجزيرة للدراسات يبحث جدوى انخراط فلسطينيّي الداخل في مؤسسة الحكم الإسرائيلية', 'tokens': ['الجزيرة', 'للدراسات', 'يبحث', 'جدوى', 'انخراط', 'الداخل', 'مؤسسة', 'الحكم', 'الإسرائيلية'], 'stems': ['جزير', 'دراس', 'يبحث', 'جدوى', 'انخراط', 'داخل', 'موسس', 'حكم', 'اسراييل'], 'lemmas': ['الجزيرة', 'للدراسات', 'يبحث', 'جدوى', 'انخراط', 'الداخل', 'مؤسسة', 'الحكم', 'الإسرائيلية'], 'pos_tags': [('الجزيرة', ''), ('للدراسات', ''), ('يبحث', ''), ('جدوى', ''), ('انخراط', ''), ('فلسطينيّي', ''), ('الداخل', ''), ('في', ''), ('مؤسسة', ''), ('الحكم', ''), ('الإسرائيلية', '')], 'entities': [('للدراسات يبحث', 'PER')]}\n",
      "Processed Data: {'original': 'معرض اكتشف الجزيرة', 'tokens': ['معرض', 'اكتشف', 'الجزيرة'], 'stems': ['معرض', 'اكتشف', 'جزير'], 'lemmas': ['معرض', 'اكتشف', 'الجزيرة'], 'pos_tags': [('معرض', ''), ('اكتشف', ''), ('الجزيرة', '')], 'entities': []}\n",
      "Processed Data: {'original': 'الجزيرة تحتفل بمرور 25 عاماً على انطلاقتها', 'tokens': ['الجزيرة', 'تحتفل', 'بمرور', '25', 'انطلاقتها'], 'stems': ['جزير', 'تحتفل', 'مرور', '25', 'انطلاق'], 'lemmas': ['الجزيرة', 'تحتفل', 'بمرور', '25', 'انطلاقتها'], 'pos_tags': [('الجزيرة', ''), ('تحتفل', ''), ('بمرور', ''), ('25', ''), ('عاماً', ''), ('على', ''), ('انطلاقتها', '')], 'entities': []}\n",
      "Processed Data: {'original': 'منتدى الجزيرة 2019: الخليج بين الأزمة وتراجع التأثير الاستراتيجي', 'tokens': ['منتدى', 'الجزيرة', '2019', 'الخليج', 'الأزمة', 'وتراجع', 'التأثير', 'الاستراتيجي'], 'stems': ['منتدى', 'جزير', '2019', 'خليج', 'ازم', 'تراجع', 'تاثير', 'استراتيج'], 'lemmas': ['منتدى', 'الجزيرة', '2019', 'الخليج', 'الأزمة', 'وتراجع', 'التأثير', 'الاستراتيجي'], 'pos_tags': [('منتدى', ''), ('الجزيرة', ''), ('2019', ''), (':', ''), ('الخليج', ''), ('بين', ''), ('الأزمة', ''), ('وتراجع', ''), ('التأثير', ''), ('الاستراتيجي', '')], 'entities': []}\n",
      "Processed Data: {'original': 'أربعون عاماً على الثورة الإسلامية في إيران', 'tokens': ['أربعون', 'الثورة', 'الإسلامية', 'إيران'], 'stems': ['اربع', 'ثور', 'اسلام', 'ايرا'], 'lemmas': ['أربعون', 'الثورة', 'الإسلامية', 'إيران'], 'pos_tags': [('أربعون', ''), ('عاماً', ''), ('على', ''), ('الثورة', ''), ('الإسلامية', ''), ('في', ''), ('إيران', '')], 'entities': []}\n",
      "Processed Data: {'original': 'الاحتفال بالذكرى الثانية والعشرين لانطلاق شبكة الجزيرة الإعلامية', 'tokens': ['الاحتفال', 'بالذكرى', 'الثانية', 'والعشرين', 'لانطلاق', 'شبكة', 'الجزيرة', 'الإعلامية'], 'stems': ['احتفال', 'ذكرى', 'ثان', 'عشر', 'انطلاق', 'شبك', 'جزير', 'اعلام'], 'lemmas': ['الاحتفال', 'بالذكرى', 'الثانية', 'والعشرين', 'لانطلاق', 'شبكة', 'الجزيرة', 'الإعلامية'], 'pos_tags': [('الاحتفال', ''), ('بالذكرى', ''), ('الثانية', ''), ('والعشرين', ''), ('لانطلاق', ''), ('شبكة', ''), ('الجزيرة', ''), ('الإعلامية', '')], 'entities': []}\n",
      "Processed Data: {'original': 'معهد الجزيرة ينظم منتدى للإعلام الرقمي بإسطنبول', 'tokens': ['معهد', 'الجزيرة', 'ينظم', 'منتدى', 'للإعلام', 'الرقمي', 'بإسطنبول'], 'stems': ['معهد', 'جزير', 'ينظم', 'منتدى', 'اعلام', 'رقم', 'اسطنبول'], 'lemmas': ['معهد', 'الجزيرة', 'ينظم', 'منتدى', 'للإعلام', 'الرقمي', 'بإسطنبول'], 'pos_tags': [('معهد', ''), ('الجزيرة', ''), ('ينظم', ''), ('منتدى', ''), ('للإعلام', ''), ('الرقمي', ''), ('بإسطنبول', '')], 'entities': [('معهد', 'LOC')]}\n",
      "Processed Data: {'original': 'وقفة تضامنية مع الصحفي جمال خاشقجي', 'tokens': ['وقفة', 'تضامنية', 'الصحفي', 'جمال', 'خاشقجي'], 'stems': ['وقف', 'تضامن', 'صحف', 'جمال', 'خاشقج'], 'lemmas': ['وقفة', 'تضامنية', 'الصحفي', 'جمال', 'خاشقجي'], 'pos_tags': [('وقفة', ''), ('تضامنية', ''), ('مع', ''), ('الصحفي', ''), ('جمال', ''), ('خاشقجي', '')], 'entities': []}\n",
      "Processed Data: {'original': 'نادي الصحافة القومي بواشنطن يستضيف الجزيرة', 'tokens': ['نادي', 'الصحافة', 'القومي', 'بواشنطن', 'يستضيف', 'الجزيرة'], 'stems': ['ناد', 'صحاف', 'قوم', 'واشنط', 'يستضيف', 'جزير'], 'lemmas': ['نادي', 'الصحافة', 'القومي', 'بواشنطن', 'يستضيف', 'الجزيرة'], 'pos_tags': [('نادي', ''), ('الصحافة', ''), ('القومي', ''), ('بواشنطن', ''), ('يستضيف', ''), ('الجزيرة', '')], 'entities': []}\n",
      "Processed Data: {'original': 'اختتام مهرجان الجزيرة بلقان للأفلام الوثائقية بسراييفو', 'tokens': ['اختتام', 'مهرجان', 'الجزيرة', 'بلقان', 'للأفلام', 'الوثائقية', 'بسراييفو'], 'stems': ['اختتام', 'مهرج', 'جزير', 'لقا', 'افلام', 'وثايق', 'سراييف'], 'lemmas': ['اختتام', 'مهرجان', 'الجزيرة', 'بلقان', 'للأفلام', 'الوثائقية', 'بسراييفو'], 'pos_tags': [('اختتام', ''), ('مهرجان', ''), ('الجزيرة', ''), ('بلقان', ''), ('للأفلام', ''), ('الوثائقية', ''), ('بسراييفو', '')], 'entities': []}\n"
     ]
    }
   ],
   "source": [
    "for item in processed_texts:\n",
    "   print(f\"Processed Data: {item}\")"
   ],
   "metadata": {
    "collapsed": false,
    "ExecuteTime": {
     "end_time": "2024-06-07T00:03:27.139922400Z",
     "start_time": "2024-06-07T00:03:26.990855500Z"
    }
   },
   "id": "26bd22ae15d00d8f"
  },
  {
   "cell_type": "markdown",
   "source": [
    "\n",
    "#### Overview\n",
    "\n",
    "During this lab, I gained hands-on experience in several key areas of Natural Language Processing (NLP) and web scraping. Here are the major components and learnings from the exercise:\n",
    "\n",
    "1. **Web Scraping:**\n",
    "   - Utilized libraries like `requests` and `BeautifulSoup` rather than `Scrapy` to extract data from web sources.\n",
    "   - Focused on extracting specific elements, in this case, i tested with just the titles from HTML tags with a class of `title`.\n",
    "\n",
    "2. **Data Storage:**\n",
    "   - Stored the scraped data in a NoSQL database, MongoDB, which is well-suited for handling unstructured data.\n",
    "   - Understood the basics of connecting to a MongoDB instance and performing basic insert operations.\n",
    "\n",
    "3. **NLP Pipeline:**\n",
    "   - Implemented an NLP pipeline involving text cleaning, tokenization, stop words removal, stemming, lemmatization, POS tagging, and Named Entity Recognition (NER).\n",
    "   - Used both NLTK and SpaCy libraries to perform these tasks, leveraging their respective strengths.\n",
    "\n",
    "#### Overall Key Learnings\n",
    "\n",
    "1. **Difference Between Stemming and Lemmatization:**\n",
    "   - **Stemming:** This technique reduces words to their base or root form, often by simply removing suffixes. It can produce non-words since it uses heuristic rules (example: \"running\" becomes \"run\" or \"runn\"). In the output, i found `['مهرج', 'جزير', 'لقا', 'افلام', 'وثايق']`. those are stemmed forms, which are not real words.\n",
    "   - **Lemmatization:** This technique also reduces words to their base or root form but uses a **dictionary-based** approach to ensure that the result is an actual word (example: \"running\" becomes \"run\"). In the output, `['مهرجان', 'الجزيرة', 'بلقان', 'للأفلام', 'الوثائقية']` are lemmatized forms which are real words.\n",
    "   - **My Comparison:** Lemmatization is generally more accurate as it considers the context of the word within a sentence. Stemming is supposdly faster but can lead to less meaningful results.\n",
    "\n",
    "2. **Part of Speech (POS) Tagging:**\n",
    "   - **Rule-based POS Tagging:** Uses predefined grammatical rules to assign POS tags to words. It’s straightforward but can be limited by the complexity of the arabic language.\n",
    "\n",
    "#### Challenges and Solutions\n",
    "\n",
    "- **Language Support:** While SpaCy provides good support for many languages, some limitations were noted with Arabic. Supplementing SpaCy with additional resources or custom models trained on Arabic text could improve results.\n",
    "- **Accuracy of NLP Tasks:** Ensuring the accuracy of stemming, lemmatization, and POS tagging for non-English text required using appropriate tools like the `SnowballStemmer` for Arabic.\n"
   ],
   "metadata": {
    "collapsed": false
   },
   "id": "85f811a4cded8351"
  },
  {
   "cell_type": "code",
   "execution_count": 46,
   "outputs": [],
   "source": [],
   "metadata": {
    "collapsed": false,
    "ExecuteTime": {
     "end_time": "2024-06-07T00:03:27.141927100Z",
     "start_time": "2024-06-07T00:03:27.019016400Z"
    }
   },
   "id": "c5d852542ee1c560"
  },
  {
   "cell_type": "code",
   "execution_count": 46,
   "outputs": [],
   "source": [],
   "metadata": {
    "collapsed": false,
    "ExecuteTime": {
     "end_time": "2024-06-07T00:03:27.142923Z",
     "start_time": "2024-06-07T00:03:27.025768100Z"
    }
   },
   "id": "efce2f9399834dbb"
  },
  {
   "cell_type": "code",
   "execution_count": 46,
   "outputs": [],
   "source": [],
   "metadata": {
    "collapsed": false,
    "ExecuteTime": {
     "end_time": "2024-06-07T00:03:27.143923Z",
     "start_time": "2024-06-07T00:03:27.035094400Z"
    }
   },
   "id": "9cac327d942f823"
  },
  {
   "cell_type": "code",
   "execution_count": 46,
   "outputs": [],
   "source": [],
   "metadata": {
    "collapsed": false,
    "ExecuteTime": {
     "end_time": "2024-06-07T00:03:27.143923Z",
     "start_time": "2024-06-07T00:03:27.049939300Z"
    }
   },
   "id": "8ae86f68420eaaf9"
  },
  {
   "cell_type": "code",
   "execution_count": 46,
   "outputs": [],
   "source": [],
   "metadata": {
    "collapsed": false,
    "ExecuteTime": {
     "end_time": "2024-06-07T00:03:27.160919600Z",
     "start_time": "2024-06-07T00:03:27.056950Z"
    }
   },
   "id": "50c03e8bd54a8a9c"
  },
  {
   "cell_type": "code",
   "execution_count": null,
   "outputs": [],
   "source": [],
   "metadata": {
    "collapsed": false
   },
   "id": "b89718bb4e1fc44a"
  }
 ],
 "metadata": {
  "kernelspec": {
   "display_name": "Python 3",
   "language": "python",
   "name": "python3"
  },
  "language_info": {
   "codemirror_mode": {
    "name": "ipython",
    "version": 2
   },
   "file_extension": ".py",
   "mimetype": "text/x-python",
   "name": "python",
   "nbconvert_exporter": "python",
   "pygments_lexer": "ipython2",
   "version": "2.7.6"
  }
 },
 "nbformat": 4,
 "nbformat_minor": 5
}
